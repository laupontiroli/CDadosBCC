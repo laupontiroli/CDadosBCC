{
 "cells": [
  {
   "cell_type": "markdown",
   "metadata": {},
   "source": [
    "# Testes de Hipótese\n",
    "\n",
    "Referência:\n",
    "\n",
    "Montgomery, D. C., & Runger, G. C. (2021). Estatística Aplicada e Probabilidade para Engenheiros (7th ed.). Grupo GEN. https://app.minhabiblioteca.com.br/books/9788521637448. Seção 9.1 e 9.2.\n",
    "\n",
    "**Objetivo: ao fim desta aula, o aluno será capaz de conduzir e interpretar um teste de hipótese**\n",
    "\n",
    "Um problema filosófico que é uma parte da ciência há muito tempo é o de definir quantos testes são necessários para aceitar algo como verdade. Hoje, um paradigma amplamente aceito é o que foi iniciada por Karl Popper. O raciocínio científico de Popper traz duas ideias:\n",
    "\n",
    "* Para *confirmar uma hipótese*, devemos prová-la de todas as maneiras possíveis (e isso é impossível na grande maioria das vezes), e\n",
    "* Para *rejeitar uma hipótese*, só precisamos apresentar evidências contra ela.\n",
    "\n",
    "Por esse motivo, a ciência nos séculos XX e XXI se construiu usando o seguinte método. Se quisermos provar que alguma intervenção fez efeito, partimos da média e do desvio padrão em uma amostra que recebeu esse efeito. Por exemplo, podemos estar testando um novo fertilizante para romãs, então partimos da média e do desvio padrão em uma amostra de romãs que receberam nosso novo fertilizante.\n",
    "\n",
    "De acordo com as ideias de Popper, não podemos *provar* que o fertilizante fez efeito. Porém, podemos *rejeitar a hipótese* de que o fertilizante não fez efeito. Essa hipótese é chamada de *hipótese nula*, ou $H_0$.\n",
    "\n",
    "De acordo com a *hipótese nula*, o peso médio de nossa amostra de romãs fertilizadas deve ser igual à média de romãs não fertilizadas, que já conhecemos anteriormente. Isso pode ser escrito como:\n",
    "\n",
    "$$\n",
    "H_0: \\mu_0 = \\mu_1,\n",
    "$$\n",
    "onde $\\mu_0$ é a média de peso de romãs normais e $\\mu_1$ é a média de peso das romãs que medimos.\n",
    "\n",
    "Ao mesmo tempo, vamos definir nossa hipótese alternativa. Em geral, ela é:\n",
    "$$\n",
    "H_1: \\mu_0 \\neq \\mu_1,\n",
    "$$\n",
    "\n",
    "mas, se soubermos com certeza que nossa intervenção gerou aumento ou diminuição da média, podemos usar as hipóteses alternativas:\n",
    "\n",
    "* $H_1: \\mu_0 > \\mu_1$, ou\n",
    "* $H_1: \\mu_0 < \\mu_1$\n",
    "\n",
    "Agora, precisamos saber se nosso modelo - assumindo $H_0$ como correta - explica bem os nossos dados. Para isso, fazemos um modelo:\n",
    "\n",
    "1. Usando o TCL, sabemos que a nossa média amostral $\\bar{X}$ segue uma distribuição normal com desvio padrão $\\sigma/\\sqrt{N}$,\n",
    "1. Pela hipótese nula, assumimos que a média da distribuição de $\\bar{X}$ tem média $\\mu_0$,\n",
    "\n",
    "Agora, vamos definir um valor $\\alpha$ chamado *nível de significância*. Em geral, ele é igual a 5%, mas pode ser 10%, 1%, 0.1% ou outro valor dependendo da sua aplicação.\n",
    "\n",
    "**Ideia 1: usar intervalos de confiança e a região crítica**\n",
    "Como sabemos nosso modelo que gera $\\bar{X}$, podemos calcular um intervalo de confiança de (1-$\\alpha$). A região fora desse intervalo de confiança se chama *região crítica*. Se $\\bar{X}$ está na região crítica, então rejeitamos a hipótese nula.\n",
    "\n",
    "**Ideia 2: usar a probabilidade de gerar dados tão ou mais extremos que $\\bar{X}$**\n",
    "Como sabemos nosso modelo que gera $\\bar{X}$, podemos calcular a probabilidade tão ou mais distantes da média que $\\bar{X}$. Essa probabilidade se chama p-valor. Se o p-valor é inferior a $\\alpha$, então rejeitamos a hipótese nula.\n",
    "\n",
    "As duas ideias são matematicamente equivalentes, mas a segunda é usada mais frequentemente.\n",
    "\n",
    "Uma anotação importante: se a hipótese alternativa for do tipo $>$ ou $<$, então tanto a região crítica quanto o p-valor são calculados usando somente a metade correspondente da curva Normal."
   ]
  },
  {
   "cell_type": "markdown",
   "metadata": {},
   "source": [
    "# Exercício 1\n",
    "*Objetivo: entender todos os passos de um teste de hipótese*\n",
    "\n",
    "No pequeno caso abaixo, identifique:\n",
    "\n",
    "1. A hipótese nula\n",
    "1. A hipótese alternativa\n",
    "1. O valor $\\alpha$\n",
    "1. Se foi usada uma região crítica ou um p-valor\n",
    "1. Qual é a regiao crítica ou o p-valor\n",
    "1. Se houve rejeição da hipótese nula\n",
    "\n",
    "---\n",
    "\n",
    "Em média, romãs têm 50g.\n",
    "\n",
    "Na tentativa de melhorar sua produção, um produtor começou a usar um fertilizante. Em uma amostra de 10 de suas romãs fertilizadas, ele encontra um peso médio de 60g, e sabe que o desvio padrão é de 20g.\n",
    "\n",
    "Se as novas romãs forem, na verdade, idênticas às usuais, então a média da distribuição de sua média é 50g. Pelo TCL, o desvio padrão dessa distribuição é $20/\\sqrt{10}$ g=6.32g.\n",
    "\n",
    "Podemos calcular $P(\\bar{X} > 60 | \\mu=50, \\sigma=6.32)$ usando:"
   ]
  },
  {
   "cell_type": "code",
   "execution_count": 1,
   "metadata": {},
   "outputs": [
    {
     "name": "stdout",
     "output_type": "stream",
     "text": [
      "0.056793005501229565\n"
     ]
    }
   ],
   "source": [
    "import scipy.stats as st\n",
    "p = 1-st.norm.cdf(60, loc=50, scale=6.32)\n",
    "print(p)"
   ]
  },
  {
   "cell_type": "markdown",
   "metadata": {},
   "source": [
    "Como $p>0.05$, então o produtor decide que falhou em rejeitar a hipótese nula."
   ]
  },
  {
   "cell_type": "raw",
   "metadata": {},
   "source": [
    "RESPOSTAS\n",
    "(faça as suas antes de conferir)\n",
    "\n",
    "1. A hipótese nula - mu=50\n",
    "1. A hipótese alternativa - mu>50\n",
    "1. O valor $\\alpha$ - 0.05\n",
    "1. Se foi usada uma região crítica ou um p-valor - p-valor\n",
    "1. Qual é a regiao crítica ou o p-valor - 0.1586\n",
    "1. Se houve rejeição da hipótese nula - não houve"
   ]
  },
  {
   "cell_type": "markdown",
   "metadata": {},
   "source": [
    "# Exercício 2\n",
    "*Objetivo: compor seu próprio teste de hipótese*\n",
    "\n",
    "Num time de corrida, o tempo para concluir a prova de 10K tem média 40min e desvio padrão 20min. Cinco pessoas, sorteadas aleatoriamente nesse time, passaram por um treinamento especial, e passaram a concluir a corrida em 35min.\n",
    "\n",
    "Essas condições dão elementos suficientes para concluir que o novo treinamento é vantajoso em relação ao anterior?\n",
    "\n",
    "Defina (use valores razoáveis, se necessário):\n",
    "\n",
    "1. A hipótese nula\n",
    "1. A hipótese alternativa\n",
    "1. O valor $\\alpha$\n",
    "1. Se você quer usar uma região crítica ou um p-valor\n",
    "1. Qual é a regiao crítica ou o p-valor\n",
    "1. Se houve rejeição da hipótese nula"
   ]
  },
  {
   "cell_type": "code",
   "execution_count": 13,
   "metadata": {},
   "outputs": [
    {
     "name": "stdout",
     "output_type": "stream",
     "text": [
      "0.5761501220305789\n"
     ]
    }
   ],
   "source": [
    "# Resolva aqui\n",
    "amostra = 5 \n",
    "mu0=40 \n",
    "desvio_p0=20\n",
    "alfa = 0.005 \n",
    "\n",
    "# p valor de menos ou igual a 35 dado mu0 e (desviop0/raiz da amostra)\n",
    "# multiplica por dois pra ver os dois lados, pra ele ser diferente de 40 \n",
    "p = st.norm.cdf(35,loc=40,scale=(20/(5**0.5)))*2 \n",
    "print(p)"
   ]
  },
  {
   "cell_type": "code",
   "execution_count": 3,
   "metadata": {},
   "outputs": [
    {
     "name": "stdout",
     "output_type": "stream",
     "text": [
      "0.5761501220305789\n",
      "22.469549188468363 57.53045081153164\n",
      "Não podemos rejeitar a hipótese nula\n"
     ]
    }
   ],
   "source": [
    "# Solução - faça a sua antes de olhar esta!\n",
    "#1. A hipótese nula - mu=40\n",
    "#1. A hipótese alternativa - mu!=40\n",
    "#1. O valor $\\alpha$ - 0.05\n",
    "import scipy.stats as st\n",
    "# Solução usando p-valor:\n",
    "p = st.norm.cdf(35, loc=40, scale=20/(5**0.5))*2\n",
    "print(p)\n",
    "\n",
    "# Solução usando região crítica\n",
    "lim_inf = st.norm.ppf(0.025, loc=40, scale=20/5**0.5)\n",
    "lim_sup = st.norm.ppf(1-0.025, loc=40, scale=20/5**0.5)\n",
    "print(lim_inf, lim_sup)\n",
    "\n",
    "print(\"Não podemos rejeitar a hipótese nula\")"
   ]
  },
  {
   "cell_type": "markdown",
   "metadata": {},
   "source": [
    "# Exercício 3\n",
    "\n",
    "*Objetivo: analisar a relevância dos parâmetros no teste de hipótese*\n",
    "\n",
    "Resolva o mesmo exercício anterior, analisando o que acontece com o p-valor e/ou a região crítica quando:\n",
    "\n",
    "1. Ao invés de abaixar o tempo para 35 minutos, o treino abaixasse o tempo para 30 minutos.\n",
    "1. Mesmo que o tempo fosse baixado para 35 minutos, o desvio padrão fosse de 5 minutos.\n",
    "1. Mantendo o tempo novo em 35 minutos e o desvio padrão em 20 minutos, fossem analisados 100 corredores ao invés de 5.\n"
   ]
  },
  {
   "cell_type": "code",
   "execution_count": 17,
   "metadata": {},
   "outputs": [
    {
     "name": "stdout",
     "output_type": "stream",
     "text": [
      "0.2635524772829727\n",
      "0.025347318677468252\n",
      "1.523970604832094e-23\n"
     ]
    }
   ],
   "source": [
    "p1= st.norm.cdf(30,loc=40,scale=(20/(5**0.5)))*2 \n",
    "print(p1)\n",
    "p2= st.norm.cdf(35,loc=40,scale=(5/(5**0.5)))*2 \n",
    "print(p2)\n",
    "p2= st.norm.cdf(35,loc=40,scale=(5/(100**0.5)))*2 \n",
    "print(p2)"
   ]
  },
  {
   "cell_type": "raw",
   "metadata": {},
   "source": [
    "# Solução (faça a sua antes de ler):\n",
    "\n",
    "(1) Efeitos maiores tendem a levar a p-valores menores ou\n",
    "ao deslocamento em relação à região crítica\n",
    "(2) Desvios padrões menores levam a regiões críticas maiores\n",
    "e p-valores menores\n",
    "(3) O aumento de N leva a regiões críticas maiores\n",
    "e p-valores menores"
   ]
  },
  {
   "cell_type": "markdown",
   "metadata": {},
   "source": [
    "# Exercício 4\n",
    "*Objetivo: fazer um teste de hipótese*\n",
    "\n",
    "Um pacote de queijo coalho para churrasco tem 150g de queijo, com desvio padrão de 20g. Ao comprar 10 pacotes de queijo, um cliente pesou 1.3kg de queijo.\n",
    "\n",
    "Faça um teste de hipótese e decida: os pacotes têm menos queijo que o prometido?"
   ]
  },
  {
   "cell_type": "code",
   "execution_count": 21,
   "metadata": {},
   "outputs": [
    {
     "name": "stdout",
     "output_type": "stream",
     "text": [
      "0.000782701129001274\n"
     ]
    }
   ],
   "source": [
    "p= st.norm.cdf(130,loc=150,scale=(20/(10**0.5)))\n",
    "print(p)"
   ]
  },
  {
   "cell_type": "raw",
   "metadata": {},
   "source": [
    "1. A hipótese nula - mu=150\n",
    "1. A hipótese alternativa - mu<150, pois se mu>150 não seria um problema.\n",
    "1. O valor $\\alpha$ - 0.05\n",
    "1. Se foi usada uma região crítica ou um p-valor - p-valor\n",
    "1. Qual é a regiao crítica ou o p-valor - 0.0007\n",
    "1. Se houve rejeição da hipótese nula - houve\n",
    "portanto, o pacote está fora de especificação."
   ]
  },
  {
   "cell_type": "markdown",
   "metadata": {},
   "source": [
    "# Exercício 5\n",
    "*Objetivo: corrigir um teste de hipótese*\n",
    "\n",
    "As notas de alunos de uma escola num exame nacional têm média 400 e desvio padrão 200. 30 alunos participaram de um programa de estudos especiais e tiveram nota média 450. Usando o seguinte programa, um estatístico chegou à conclusão de que o programa foi bem-sucedido. \n",
    "\n",
    "Analise o código abaixo e corrija todos os erros e inconsistências."
   ]
  },
  {
   "cell_type": "code",
   "execution_count": 27,
   "metadata": {},
   "outputs": [
    {
     "name": "stdout",
     "output_type": "stream",
     "text": [
      "0.9999999999999681\n",
      "Como (1-p)>0.95, devemos confirmar a hipótese nula\n",
      "0.17090352023079758\n",
      "Como (1-p)>0.95, não devemos rejeitar a hipótese nula\n"
     ]
    }
   ],
   "source": [
    "# H0 = hipótese nula: mu=400\n",
    "# H1 = hipótese alternativa: mu != 400\n",
    "# mu = 400\n",
    "# sigma = 200\n",
    "\n",
    "p = st.norm.cdf(450, loc=400, scale=200/30)\n",
    "print(p)\n",
    "print(\"Como (1-p)>0.95, devemos confirmar a hipótese nula\")\n",
    "\n",
    "p = (1 - st.norm.cdf(450, loc=400, scale=200/(30**0.5)))*2\n",
    "print(p)\n",
    "print(\"Falhei em rejeitar a hipótese nula\")"
   ]
  },
  {
   "cell_type": "raw",
   "metadata": {},
   "source": [
    "SOLUÇÃO\n",
    "\n",
    "\n",
    "FAÇA A SUA ANTES\n",
    "\n",
    "\n",
    "NÃO OLHE A RESPOSTA SEM FAZER A SUA\n",
    "\n",
    "\n",
    "SE VOCÊ OLHAR A RESPOSTA ANTES DE FAZER A SUA ISSO PODE SER TERRÍVEL PORQUE VOCÊ VAI ACHAR QUE SÓ EXISTE UMA RESPOSTA\n",
    "\n",
    "\n",
    "ÚLTIMA CHANCE\n",
    "\n",
    "\n",
    "Erros:\n",
    "\n",
    "1) Na linha 6, scale deveria ser 200/(30**0.5)\n",
    "2) A linha 6 está testando para uma hipótese alternativa unilateral (one-tailed ou one-sided).\n",
    "3) A linha 6 está testando o lado errado da curva normal\n",
    "4) Na linha 8, não podemos nunca \"confirmar\" a hipótese nula, somente falhar em rejeitá-la.\n"
   ]
  },
  {
   "cell_type": "raw",
   "metadata": {},
   "source": []
  }
 ],
 "metadata": {
  "kernelspec": {
   "display_name": "cdados",
   "language": "python",
   "name": "python3"
  },
  "language_info": {
   "codemirror_mode": {
    "name": "ipython",
    "version": 3
   },
   "file_extension": ".py",
   "mimetype": "text/x-python",
   "name": "python",
   "nbconvert_exporter": "python",
   "pygments_lexer": "ipython3",
   "version": "3.11.4"
  }
 },
 "nbformat": 4,
 "nbformat_minor": 2
}
