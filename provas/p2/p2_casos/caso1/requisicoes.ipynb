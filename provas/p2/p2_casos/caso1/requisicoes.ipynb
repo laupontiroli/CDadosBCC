{
 "cells": [
  {
   "cell_type": "markdown",
   "metadata": {},
   "source": [
    "# Requisições em um Sistema de Computação\n",
    "\n",
    "Anotações importantes:\n",
    "\n",
    "## Códigos\n",
    "\n",
    "Seu notebook deve ser executável novamente se for preciso. Então, deixe todos os códigos explícitos. O código poderá ser inspecionado para resolver dúvidas quanto à resolução do exercício, então nomeie todas as suas variáveis de forma que seja possível saber seu conteúdo.\n",
    "\n",
    "## Testes de hipótese\n",
    "\n",
    "Várias das questões pedem testes de hipótese. Lembre-se que, num teste de hipótese, precisamos definir:\n",
    "\n",
    "1. Qual é a distribuição envolvida\n",
    "1. Qual é a hipótese nula\n",
    "1. Qual é a hipótese alternativa\n",
    "1. Qual é o nível se significância escolhido.\n",
    "\n",
    "Sempre que fizer um teste de hipótese, explicite esses parâmetros, bem como o *p-valor* encontrado, e as decisões que forem tomadas com base nesses resultados.\n",
    "\n",
    "## Figuras e argumentações\n",
    "\n",
    "Sempre que forem pedidas figuras e argumentações, elas devem ser completas, coesas e baseadas em dados. Esperamos figuras com rótulos em todos os eixos, títulos explicativos, e tipos de figuras adequados ao conteúdo. Em textos, esperamos frases que evidenciam quais são os argumentos usados e levam a conclusões (exemplo: \"observamos que 9 das 18 maçãs são vermelhas, portanto a probabilidade de uma maçã escolhida aleatoriamente ser vermelha é 1/2\"). Evite usar adjetivos, especialmente se forem superlativos (\"este elemento é essencial/crucial/etc para a conclusão\")."
   ]
  },
  {
   "cell_type": "code",
   "execution_count": 4,
   "metadata": {},
   "outputs": [
    {
     "data": {
      "text/html": [
       "<div>\n",
       "<style scoped>\n",
       "    .dataframe tbody tr th:only-of-type {\n",
       "        vertical-align: middle;\n",
       "    }\n",
       "\n",
       "    .dataframe tbody tr th {\n",
       "        vertical-align: top;\n",
       "    }\n",
       "\n",
       "    .dataframe thead th {\n",
       "        text-align: right;\n",
       "    }\n",
       "</style>\n",
       "<table border=\"1\" class=\"dataframe\">\n",
       "  <thead>\n",
       "    <tr style=\"text-align: right;\">\n",
       "      <th></th>\n",
       "      <th>Hora</th>\n",
       "      <th>Minuto</th>\n",
       "      <th>Segundo</th>\n",
       "      <th>IP</th>\n",
       "      <th>Tamanho</th>\n",
       "    </tr>\n",
       "  </thead>\n",
       "  <tbody>\n",
       "    <tr>\n",
       "      <th>0</th>\n",
       "      <td>3</td>\n",
       "      <td>56</td>\n",
       "      <td>14</td>\n",
       "      <td>54.36.149.41</td>\n",
       "      <td>30577</td>\n",
       "    </tr>\n",
       "    <tr>\n",
       "      <th>1</th>\n",
       "      <td>3</td>\n",
       "      <td>56</td>\n",
       "      <td>16</td>\n",
       "      <td>31.56.96.51</td>\n",
       "      <td>5667</td>\n",
       "    </tr>\n",
       "    <tr>\n",
       "      <th>2</th>\n",
       "      <td>3</td>\n",
       "      <td>56</td>\n",
       "      <td>16</td>\n",
       "      <td>31.56.96.51</td>\n",
       "      <td>5379</td>\n",
       "    </tr>\n",
       "    <tr>\n",
       "      <th>3</th>\n",
       "      <td>3</td>\n",
       "      <td>56</td>\n",
       "      <td>17</td>\n",
       "      <td>40.77.167.129</td>\n",
       "      <td>1696</td>\n",
       "    </tr>\n",
       "    <tr>\n",
       "      <th>4</th>\n",
       "      <td>3</td>\n",
       "      <td>56</td>\n",
       "      <td>17</td>\n",
       "      <td>91.99.72.15</td>\n",
       "      <td>41483</td>\n",
       "    </tr>\n",
       "  </tbody>\n",
       "</table>\n",
       "</div>"
      ],
      "text/plain": [
       "   Hora  Minuto  Segundo             IP  Tamanho\n",
       "0     3      56       14   54.36.149.41    30577\n",
       "1     3      56       16    31.56.96.51     5667\n",
       "2     3      56       16    31.56.96.51     5379\n",
       "3     3      56       17  40.77.167.129     1696\n",
       "4     3      56       17    91.99.72.15    41483"
      ]
     },
     "execution_count": 4,
     "metadata": {},
     "output_type": "execute_result"
    }
   ],
   "source": [
    "import pandas as pd\n",
    "import matplotlib.pyplot as plt\n",
    "import numpy as np\n",
    "import scipy.stats as st\n",
    "\n",
    "df = pd.read_csv('requisicoes.zip')\n",
    "df.head()"
   ]
  },
  {
   "cell_type": "markdown",
   "metadata": {},
   "source": [
    "# Exercício 1\n",
    "\n",
    "O arquivo `requisicoes.zip` contém registros de todas as requisições feitas a um servidor de e-commerce durante as últimas 24h. Encontre:\n",
    "\n",
    "1. O número de requições feitas ao servidor a cada hora cheia, isto é, o número de requições feitas entre 3:00:00 e 3:59:59, entre 4:00:00 e 4:59:59 e assim por diante.\n",
    "1. Os usuários que fazem requições ao servir são identificados pelo seu IP. Para cada hora cheia, encontre o número de usuários diferentes (clientes únicos) que fazem requisições ao servidor.\n",
    "1. Para cada hora cheia, encontre o número de requisições que é feita pelo usuário mais ativo de cada hora."
   ]
  },
  {
   "cell_type": "markdown",
   "metadata": {},
   "source": [
    "# Exercício 2\n",
    "\n",
    "Gostaríamos de realizar predições sobre o número provável de clientes por hora nesse servidor, de forma que possamos dimesionar servidores corretamente e nos antecipar a possíveis flutuações. O sistema de predição que é usado atualmente assume apenas um parâmetro, que é igual à média de clientes únicos por hora.\n",
    "\n",
    "1. Qual distribuição deveria ser usada para modelar o número de usuário diferentes por hora no servidor? Por que? Como podemos estimar seus parâmetros?\n",
    "1. Assumindo que o parâmetro usado atualmente é real, qual é a probabilidade de haver uma hora cheia com 2000 ou mais usuários únicos?\n",
    "1. Assumindo que o parâmetro usado atualmente é real, qual é a probabilidade de haver uma hora cheia com mais de 2000 e menos de 3000 usuários únicos, sabendo que houve mais de 1000 usuários únicos naquela hora.\n",
    "1. Assumindo que o parâmetro usado atualmente é real, qual é a probabilidade de haver uma hora cheia com um número de clientes igual ou menor que a hora cheia com menos clientes do banco de dados?\n",
    "1. Usando um teste de hipótese, verifique se o parâmetro usado atualmente é adequado para modelar o número de clientes entre 4:00:00 e 4:59:59. Explicite qual é a hipótese nula, o teste realizado, o nível de significância escolhido e a qual conclusão foi possível chegar.\n"
   ]
  },
  {
   "cell_type": "markdown",
   "metadata": {},
   "source": [
    "# Exercício 3\n",
    "\n",
    "Um analista justificou o uso da média geral como parâmetro de predição da seguinte forma. Ele modelou o número de clientes como uma variável aleatória $x$. O parâmetro de predição foi chamado de $\\mu_0$ e o número de clientes no pior caso é $n$. O analista observou que $P(x \\leq n | \\mu_0)=1$. A conclusão mostrada pelo analista é que esse resultado confirma a hipótese nula e, portanto, $\\mu_0$ é adequado para modelar a variável $x$.\n",
    "\n",
    "1. Aponte todos os erros do analista.\n",
    "1. Refaça esse teste de hipótese, corrigindo os erros apontados."
   ]
  },
  {
   "cell_type": "markdown",
   "metadata": {},
   "source": [
    "# Exercício 4\n",
    "\n",
    "Um problema que existe em sistemas de computação é que muitas requisições são feitas por um único usuário. Isso torna mais difícil prever a carga sobre o servidor, porque o comportamento de uma única pessoa é mais imprevisível que a média do comportamento de várias pessoas.\n",
    "\n",
    "1. Que distribuição pode ser usada para modelar o número de requisições feitas pelo usuário mais ativo dentre todas as requisições feitas durante cada hora cheia? Por que? Como podemos estimar seus parâmetros?\n",
    "1. Vamos definir $p_h$ como a probabilidade de uma requisição aleatória dentro da hora cheia $h$ ter sido feita pelo usuário mais ativo daquela hora. Usando um teste de hipótese, verifique se $p_h$ é o mesmo para a hora mais movimentada e para a hora menos movimentada do dia."
   ]
  },
  {
   "cell_type": "markdown",
   "metadata": {},
   "source": [
    "# Exercício 5\n",
    "\n",
    "Servidores precisam de um tempo de resposta relativamente rápido.\n",
    "\n",
    "1. Qual distribuição deve ser usada para modelar o tempo esperado entre duas requisições do servidor? Por que? Como podemos estimar seus parâmetros?\n",
    "1. No pior caso (ou: na \"hora cheia\" mais difícil), qual é o parâmetro dessa distribuição?\n",
    "1. Para o pior caso, usando a distribuição definida no ítem 1, encontre um tempo acima do qual estão 99% dos intervalos entre requisições."
   ]
  },
  {
   "cell_type": "markdown",
   "metadata": {},
   "source": [
    "# Exercício 6\n",
    "\n",
    "Um gestor levantou o seguinte pensamento. Talvez a média de tamanho dos arquivos acessados na hora menos movimentada do dia seja diferente da média de tamanho dos arquivos acessados na hora mais movimentada do dia. Se esse for o caso, seria necessário dimensionar buffers diferentes para cada uma dessas situações.\n",
    "\n",
    "1. Verifique o pensamento do gestor usando uma ferramenta de visualização à sua escolha (histograma, boxplot, etc.). Escreva um texto explicando como interpretar o que essa ferramenta mostra, e o que ela diz sobre o pensamento do gestor.\n",
    "1. Verifique o pensamento do gestor usando um teste de hipótese. Explique qual distribuição é usada no teste, qual é a hipótese nula, qual é a hipótese alternativa, o nível de significância escolhido e como o p-valor encontrado deve ser interpretado.\n",
    "1. Usando tanto o resultado da ferramenta de visualização como o teste de hipótese, argumente favoravelmente ou desfavoravelmente ao pensamento do gestor."
   ]
  },
  {
   "cell_type": "markdown",
   "metadata": {},
   "source": []
  },
  {
   "cell_type": "markdown",
   "metadata": {},
   "source": []
  }
 ],
 "metadata": {
  "kernelspec": {
   "display_name": "cdados",
   "language": "python",
   "name": "python3"
  },
  "language_info": {
   "codemirror_mode": {
    "name": "ipython",
    "version": 3
   },
   "file_extension": ".py",
   "mimetype": "text/x-python",
   "name": "python",
   "nbconvert_exporter": "python",
   "pygments_lexer": "ipython3",
   "version": "3.11.4"
  }
 },
 "nbformat": 4,
 "nbformat_minor": 2
}
