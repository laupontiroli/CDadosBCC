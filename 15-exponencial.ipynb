{
 "cells": [
  {
   "cell_type": "markdown",
   "metadata": {},
   "source": [
    "___\n",
    "# Distribuições Exponenciais\n",
    "\n",
    "**Objetivo: ao fim desta aula, o aluno será capaz de decidir pela aplicação de distribuições exponenciais fenômenos reais**"
   ]
  },
  {
   "cell_type": "code",
   "execution_count": 2,
   "metadata": {},
   "outputs": [],
   "source": [
    "import numpy as np\n",
    "import math\n",
    "import pandas as pd\n",
    "import scipy.stats as st\n",
    "\n",
    "import matplotlib.pyplot as plt\n"
   ]
  },
  {
   "cell_type": "markdown",
   "metadata": {},
   "source": [
    "## Teoria: a distribuição exponencial\n",
    "\n",
    "Já conhecemos a distribuição Binomial. Ela acontece quando realizamos experimentos independentes com probabilidade $p$ de sucesso, e queremos saber a probabilidade de encontrar $k$ sucessos em $n$ execuções do experimento. Por exemplo, podemos estimar a probabilidade de ganhar $k$ partidas em $n$ jogos.\n",
    "\n",
    "Em algumas situações, nosso número $n$ de experimentos é muito grande e a probabilidade $p$ tende a zero, como se estivéssemos executando situações binomiais ao longo de um contínuo. Nesse caso, aparece uma distribuição de Poisson com parâmetro $\\lambda$ igual ao número de ocorrências de um evento ao longo de um intervalo contínuo conhecido. Por exemplo, podemos usar a distribuição Poisson para estimar a probabilidade de termos mais de 5 gols em uma partida de futebol.\n",
    "\n",
    "Agora, temos um outro caso. Estamos numa situação modelada por um processo de Poisson, e queremos saber o tempo que devemos esperar até o próximo evento - por exemplo, quanto tempo devemos esperar até o próximo gol. O tempo que leva até o próximo evento é modelado por uma distribuição exponencial com média $\\mu=1/\\lambda$, onde $\\lambda$ é o mesmo que veio da distribuição Poisson correspondente."
   ]
  },
  {
   "cell_type": "markdown",
   "metadata": {},
   "source": [
    "# Exercício 1\n",
    "*Objetivo: modelar um processo usando uma distribuição exponencial e calcular seu valor esperado*\n",
    "\n",
    "De acordo com o site [SoccerStats](https://www.soccerstats.com/latest.asp?league=brazil), o primeiro gol de uma partida é marcado, em média, aos 33min do primeiro tempo. Essa é uma média que vale para todos os times que disputam a série A do campeonato brasileiro, isto é, não é uma estatística somente do Corinthians.\n",
    "\n",
    "Porém, vimos que os jogos do Corinthians tipicamente têm 3 gols.\n",
    "\n",
    "1. Qual é o parâmetro $\\lambda$ da distribuição Poisson que modela o número de gols em um jogo do Corinthians?\n",
    "2. Se o número de gols do Corinthians (por minuto ou por partida) segue uma distribuição de Poisson (como vimos acima), qual deve ser o tipo de distribuição (e sua média) que modela o tempo em que o primeiro gol é marcado?\n",
    "3. Usando essa distribuição, estime em que momento, em média, o primeiro gol de uma partida do Corinthians (favorável ou contrário) é marcado (dica: use `st.expon.mean`). O valor informado pelo SoccerStats está a menos de um desvio padrão deste valor? (dica: `st.expon.std`)."
   ]
  },
  {
   "cell_type": "code",
   "execution_count": 3,
   "metadata": {},
   "outputs": [
    {
     "name": "stdout",
     "output_type": "stream",
     "text": [
      "0.3333333333333333\n",
      "0.3333333333333333\n"
     ]
    }
   ],
   "source": [
    "# Nesse exercício você só precisa descomentar as linhas abaixo e modificar/interpretar o que achar necessário\n",
    "import scipy.stats as st\n",
    "N_gols = 3 # numero medio de gols por partida do Corinthians \n",
    "T = 90 # Duração média da partida (minutos)\n",
    "L = N_gols # Troque para calcularmos o número de gols por minuto, e não o número de gols por partida\n",
    "mu = 1/L\n",
    "print(st.expon.mean(scale=mu)) # Se Poisson nos dá gols por minuto, a exponencial correspondente nos dá minutos por gol\n",
    "print(st.expon.std(scale=mu)) "
   ]
  },
  {
   "cell_type": "code",
   "execution_count": null,
   "metadata": {},
   "outputs": [],
   "source": []
  },
  {
   "cell_type": "markdown",
   "metadata": {},
   "source": [
    "\n"
   ]
  },
  {
   "cell_type": "markdown",
   "metadata": {},
   "source": [
    "# Teoria: Da PMF para a PDF\n",
    "\n",
    "A distribuição exponencial está num domínio contínuo. Isso se opõe à Binomial ou a Poisson, em que poderíamos calcular a probabilidade de nosso resultado ser, por exemplo, exatamente igual a 10. Numa distribuição contínua, podemos calcular a probabilidade de nosso resultado ser qualquer número real (no domínio da função, é claro).\n",
    "\n",
    "Isso tem uma implicação interessante: como há infinitas possibilidades para o resultado do experimento, a probabilidade de cada um deles é $1/\\infty = 0$. Por isso, não temos mais uma função de massa de probabilidade (PMF), e sim uma função de *densidade* de probabilidade (PDF). A PDF indica que há mais probabilidade em uma região, mas não significa que a probabilidade de um resultado do experimento é exatamente aquele.\n",
    "\n",
    "Para calcular probabilidades, vamos usar a CDF.\n",
    "\n",
    "A *cdf* é uma soma ao longo de uma curva contínua, isto é, uma integral. Em geral, usamos $P(X \\leq x)$ para representar a *cdf* e essa função que foi integrada chama-se *função densidade de probabilidade* (*pdf*). É importante lembrar que:\n",
    "\n",
    "$$\n",
    "P(X \\leq x) = \\int_{-\\infty}^x p(X) dX\n",
    "$$\n",
    "\n",
    "e, portanto,\n",
    "\n",
    "$$\n",
    "p(X) = \\frac{dP(x)}{dx}\n",
    "$$\n",
    "\n",
    "Veja como a PDF e a CDF da distribuição exponencial se parecem:"
   ]
  },
  {
   "cell_type": "code",
   "execution_count": 4,
   "metadata": {},
   "outputs": [
    {
     "data": {
      "image/png": "[encoded data removed]",
      "text/plain": [
       "<Figure size 800x300 with 1 Axes>"
      ]
     },
     "metadata": {},
     "output_type": "display_data"
    }
   ],
   "source": [
    "import numpy as np\n",
    "import scipy.stats as st\n",
    "import matplotlib.pyplot as plt\n",
    "\n",
    "x = np.linspace(0,9,1000)\n",
    "mu = 1\n",
    "plt.figure(figsize=(8,3))\n",
    "plt.plot(x,st.expon.pdf(x, scale=mu), label='pdf')\n",
    "plt.plot(x,st.expon.cdf(x, scale=mu), label='cdf')\n",
    "plt.ylim([0,1])\n",
    "plt.xlim([0,x[-1]])\n",
    "plt.legend()\n",
    "plt.show()"
   ]
  },
  {
   "cell_type": "markdown",
   "metadata": {},
   "source": [
    "# Exercício 2\n",
    "*Objetivo: usar a CDF para calcular probabilidades no caso contínuo*\n",
    "\n",
    "Assumindo uma distribuição exponencial com $\\mu=2$, calcule:\n",
    "\n",
    "1. $P(X\\leq 2)$\n",
    "1. $P(X \\geq 2)$\n",
    "1. $P(X \\geq 2 \\cap X \\leq 5)$\n",
    "1.  $P(X \\geq 2 | X \\leq 5)$\n",
    "1. $P(X \\geq 4 | X \\geq 2)$ (compare com o resultado da 2)\n",
    "1. $P(X = 2)$"
   ]
  },
  {
   "cell_type": "code",
   "execution_count": 14,
   "metadata": {},
   "outputs": [
    {
     "name": "stdout",
     "output_type": "stream",
     "text": [
      "0.5940963018789951\n",
      "0.14013933774868262\n",
      "881.308092766585\n",
      "17.707249051699833\n"
     ]
    }
   ],
   "source": [
    "import scipy.stats as st\n",
    "mu = 244\n",
    "# 1 (exemplo, mas modifique isso):\n",
    "p1 = st.expon.cdf(220, scale=mu)\n",
    "print(p1)\n",
    "# 2 (exemplo. Por que isso é diferente de quando fazíamos essa operação na Binomial?)\n",
    "p2 = (st.expon.cdf(107, scale=mu)-st.expon.cdf(89, scale=mu))/(st.expon.cdf(106, scale=mu))\n",
    "print(p2)\n",
    "p3 = st.expon.ppf(0.973, scale=mu)\n",
    "print(p3)\n",
    "p4 = st.expon.ppf(1-0.930, scale=mu)\n",
    "print(p4)"
   ]
  },
  {
   "cell_type": "markdown",
   "metadata": {},
   "source": [
    "# Teoria (é a última!)\n",
    "\n",
    "As distribuições exponenciais podem ser usadas em várias situações em que os modelos Poisson também seriam aplicáveis. Por exemplo, se Poisson pode modelar o número de clientes que chegam em uma loja em um intervalo de tempo, a exponencial correspondente pode modelar o tempo que leva até o próximo cliente chegar. Uma das aplicações da distribuição Poisson é modelar a ocorrência de terremotos - e, portanto, a distribuição exponencial correspondente modela o tempo que leva até o próximo terremoto.\n",
    "\n",
    "Os dados que usaremos foram pré-processados de um dataset que tem as datas de diversos desastres naturais reais ao longo do mundo. Os dados e o algoritmo de pré-processamento podem ser encontrados [aqui](https://www.kaggle.com/tiagoft/earthquakes-in-japan). Os dados da tabela `indonesia.csv` contém uma linha para cada terremoto na Indonésia desde 1975, e há duas colunas:\n",
    "\n",
    "* `Date`, com a data do terremoto, e\n",
    "* `Interval`, com o tempo em dias desde o terremoto anterior\n",
    "\n",
    "# Exercício 3\n",
    "*Objetivo: encontrar o parâmetro $\\mu$ de uma distribuição exponencial*\n",
    "\n",
    "O parâmetro $\\mu$ pode ser entendido como o tempo de espera médio entre dois eventos. Encontre $\\mu$ para os dados de terremotos da Indonésia."
   ]
  },
  {
   "cell_type": "code",
   "execution_count": null,
   "metadata": {},
   "outputs": [
    {
     "data": {
      "text/html": [
       "<div>\n",
       "<style scoped>\n",
       "    .dataframe tbody tr th:only-of-type {\n",
       "        vertical-align: middle;\n",
       "    }\n",
       "\n",
       "    .dataframe tbody tr th {\n",
       "        vertical-align: top;\n",
       "    }\n",
       "\n",
       "    .dataframe thead th {\n",
       "        text-align: right;\n",
       "    }\n",
       "</style>\n",
       "<table border=\"1\" class=\"dataframe\">\n",
       "  <thead>\n",
       "    <tr style=\"text-align: right;\">\n",
       "      <th></th>\n",
       "      <th>Date</th>\n",
       "      <th>Interval</th>\n",
       "    </tr>\n",
       "  </thead>\n",
       "  <tbody>\n",
       "    <tr>\n",
       "      <th>0</th>\n",
       "      <td>1976-07-14</td>\n",
       "      <td>18.0</td>\n",
       "    </tr>\n",
       "    <tr>\n",
       "      <th>1</th>\n",
       "      <td>1976-10-29</td>\n",
       "      <td>107.0</td>\n",
       "    </tr>\n",
       "    <tr>\n",
       "      <th>2</th>\n",
       "      <td>1977-08-19</td>\n",
       "      <td>294.0</td>\n",
       "    </tr>\n",
       "    <tr>\n",
       "      <th>3</th>\n",
       "      <td>1977-08-27</td>\n",
       "      <td>8.0</td>\n",
       "    </tr>\n",
       "    <tr>\n",
       "      <th>4</th>\n",
       "      <td>1979-05-30</td>\n",
       "      <td>641.0</td>\n",
       "    </tr>\n",
       "  </tbody>\n",
       "</table>\n",
       "</div>"
      ],
      "text/plain": [
       "         Date  Interval\n",
       "0  1976-07-14      18.0\n",
       "1  1976-10-29     107.0\n",
       "2  1977-08-19     294.0\n",
       "3  1977-08-27       8.0\n",
       "4  1979-05-30     641.0"
      ]
     },
     "execution_count": 30,
     "metadata": {},
     "output_type": "execute_result"
    }
   ],
   "source": [
    "import pandas as pd\n",
    "df = pd.read_csv('dados/desastres/indonesia.csv')\n",
    "df.head()\n"
   ]
  },
  {
   "cell_type": "code",
   "execution_count": null,
   "metadata": {},
   "outputs": [],
   "source": []
  },
  {
   "cell_type": "markdown",
   "metadata": {},
   "source": [
    "# Exercício 4\n",
    "*Objetivo: verificar se dados são bem explicáveis por uma distribuição exponencial*\n",
    "\n",
    "Usando um QQ-Plot, verifique se é realmente razoável supor que os intervalos entre terremotos seguem uma distribuição exponencial.\n",
    "\n",
    "\n"
   ]
  },
  {
   "cell_type": "code",
   "execution_count": null,
   "metadata": {},
   "outputs": [],
   "source": []
  },
  {
   "cell_type": "markdown",
   "metadata": {},
   "source": [
    "# Exercício 5\n",
    "*Objetivo: manipular dados e amostras de distribuições exponenciais*\n",
    "\n",
    "1. À partir dos *dados*, calcule a probabilidade de o intervalo entre dois terremotos subsequentes ser igual ou maior a 10 dias.\n",
    "1. Calcule essa mesma probabilidade, mas agora à partir do modelo.\n",
    "1. Sabendo que já passaram 50 dias desde o último terremoto, use o modelo para descobrir a probabilidade de o próximo terremoto ser mais de 10 dias adiante."
   ]
  },
  {
   "cell_type": "markdown",
   "metadata": {},
   "source": [
    "# Exercício 6\n",
    "*Objetivo: verificar se exponenciais servem para qualquer desastre natural*\n",
    "\n",
    "A tabela `brazil.csv` tem dados semelhantes aos de terremotos na Indonésia, mas relacionados a tempestades no Brasil. Usando o procedimento que fizemos com o QQ-Plot:\n",
    "\n",
    "1. Decida se é razoável modelar tempestades no Brasil usando exponenciais,\n",
    "1. Justifique a diferença dos resultados, pensando na forma que terremotos surgem e na forma que tempestades surgem. Quais premissas das distribuições Poisson/Exponencial são violadas no caso das tempestades?"
   ]
  },
  {
   "cell_type": "code",
   "execution_count": null,
   "metadata": {},
   "outputs": [
    {
     "data": {
      "text/html": [
       "<div>\n",
       "<style scoped>\n",
       "    .dataframe tbody tr th:only-of-type {\n",
       "        vertical-align: middle;\n",
       "    }\n",
       "\n",
       "    .dataframe tbody tr th {\n",
       "        vertical-align: top;\n",
       "    }\n",
       "\n",
       "    .dataframe thead th {\n",
       "        text-align: right;\n",
       "    }\n",
       "</style>\n",
       "<table border=\"1\" class=\"dataframe\">\n",
       "  <thead>\n",
       "    <tr style=\"text-align: right;\">\n",
       "      <th></th>\n",
       "      <th>Date</th>\n",
       "      <th>Interval</th>\n",
       "    </tr>\n",
       "  </thead>\n",
       "  <tbody>\n",
       "    <tr>\n",
       "      <th>0</th>\n",
       "      <td>1984-10-09</td>\n",
       "      <td>1567.0</td>\n",
       "    </tr>\n",
       "    <tr>\n",
       "      <th>1</th>\n",
       "      <td>1985-09-30</td>\n",
       "      <td>356.0</td>\n",
       "    </tr>\n",
       "    <tr>\n",
       "      <th>2</th>\n",
       "      <td>1989-07-29</td>\n",
       "      <td>1398.0</td>\n",
       "    </tr>\n",
       "    <tr>\n",
       "      <th>3</th>\n",
       "      <td>1994-05-15</td>\n",
       "      <td>1751.0</td>\n",
       "    </tr>\n",
       "    <tr>\n",
       "      <th>4</th>\n",
       "      <td>1994-05-15</td>\n",
       "      <td>0.0</td>\n",
       "    </tr>\n",
       "  </tbody>\n",
       "</table>\n",
       "</div>"
      ],
      "text/plain": [
       "         Date  Interval\n",
       "0  1984-10-09    1567.0\n",
       "1  1985-09-30     356.0\n",
       "2  1989-07-29    1398.0\n",
       "3  1994-05-15    1751.0\n",
       "4  1994-05-15       0.0"
      ]
     },
     "execution_count": 31,
     "metadata": {},
     "output_type": "execute_result"
    }
   ],
   "source": [
    "import pandas as pd\n",
    "df = pd.read_csv('dados/desastres/brazil.csv')\n",
    "df.head()"
   ]
  },
  {
   "cell_type": "code",
   "execution_count": null,
   "metadata": {},
   "outputs": [],
   "source": []
  }
 ],
 "metadata": {
  "interpreter": {
   "hash": "48a163085726af4aa892ebfc5efd6be8ee4b935d9ea37781e4f79f4457b77d39"
  },
  "kernelspec": {
   "display_name": "Python 3.7.12 ('base')",
   "language": "python",
   "name": "python3"
  },
  "language_info": {
   "codemirror_mode": {
    "name": "ipython",
    "version": 3
   },
   "file_extension": ".py",
   "mimetype": "text/x-python",
   "name": "python",
   "nbconvert_exporter": "python",
   "pygments_lexer": "ipython3",
   "version": "3.11.4"
  }
 },
 "nbformat": 4,
 "nbformat_minor": 2
}
