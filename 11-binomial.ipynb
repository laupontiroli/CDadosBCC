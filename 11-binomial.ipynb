{
 "cells": [
  {
   "cell_type": "markdown",
   "metadata": {},
   "source": [
    "# 11 - Modelos e Distribuições Binomiais\n",
    "**Objetivo da aula**: ao fim desta aula, o aluno será capaz de aplicar distribuições binomiais para avaliar situações reais."
   ]
  },
  {
   "cell_type": "markdown",
   "metadata": {},
   "source": [
    "## Texto introdutório\n",
    "\n",
    "Já sabemos que podemos jogar uma moeda para cima e avaliar sua probabilidade de \"dar cara\". Podemos enviesar nossa moeda e chegar a uma probabilidade:\n",
    "\n",
    "$$\n",
    "P(H) = p,\n",
    "$$\n",
    "\n",
    "e, portanto, a probabilidade de dar \"coroa\" é:\n",
    "\n",
    "$$\n",
    "P(T) = 1-p = q.\n",
    "$$\n",
    "\n",
    "Uma propriedade interessante de moedas enviesadas é que elas se comportam de uma maneira parecida com alguns outros fenômenos - estes, possivelmente muito mais relevantes que uma moeda literal. Por exemplo, quando temos clientes em um e-commerce, cada um deles tem uma probabilidade $p$ de efetuar uma compra. Tal qual as moedas, raramente a compra de um cliente influencia diretamente o outro (ao menos no curto prazo), e também, se o site não for modificado e se não houver ações de marketing, essa probabilidade de compra $p$ deve ficar constante.\n",
    "\n",
    "Assim como é difícil prever o comportamento de uma única jogada de moeda, também é difícil prever o comportamento de um único cliente. Porém, podemos tirar conclusões interessantes sobre o comportamento de um conjunto de jogadas de moeda, ou de um conjunto de vários clientes. Em especial, gostaríamos de saber: se meu website receber 1000 visitas, quantas compras devem ser esperadas - ou no caso das moedas, se jogarmos 1000 moedas, quantas vezes devo ter o resultado \"cara\"?\n",
    "\n",
    "Pode ser mais fácil pensarmos num exemplo:\n",
    "\n",
    "Num caso bastante pequeno, por exemplo, com 3 jogadas de moedas (ou 3 clientes), podemos ter os resultados:\n",
    "| Jogada 1 | Jogada 2 | Jogada 3 |\n",
    "| --- | --- | --- |\n",
    "| H | H | H |\n",
    "| H | H | T |\n",
    "| H | T | H |\n",
    "| T | H | H |\n",
    "| H | T | T |\n",
    "| T | H | T |\n",
    "| T | T | H |\n",
    "| T | T | T |\n",
    "\n",
    "Se $P(H)=p$, então a probabilidade de encontrarmos o resultado HHH é igual a $P(HHH)=P(H)P(H)P(H)=p^3$. Pelo mesmo raciocínio, a probabilidade de HHT é $P(HHT)=P(H)P(H)P(T)=p^2q$.\n",
    "\n",
    "Agora, veja: para o primeiro caso ($P(HHH)$), temos exatamente a probabilidade de jogar 3 moedas e encontrar 3 caras. Para o segundo, temos a probabilidade de jogar 3 moedas e encontrar 2 caras e uma coroa, *exatamente nesta ordem*. O nosso problema de contar \"caras\" (ou \"compras\"), porém, não depende da ordem: a pergunta se refere a \"quantas caras (ou compras) eu devo esperar\", e não à ordem específica delas.\n",
    "\n",
    "De acordo com nossa tabela, há 3 possibilidades em que há duas caras e uma coroa. Cada uma delas tem probabilidade igual, então, a probabilidade de encontrar duas caras e uma coroa é igual a $3p^2q$. Podemos, na verdade, pensar em cada uma dessas possibilidades como um dos *anagramas* de HHT.\n",
    "\n",
    "### Como surge a distribuição binomial\n",
    "\n",
    "Então temos duas ideias. A primeira é que a probabilidade de encontrar $k$ caras em $n$ jogadas em *uma ordem específica* é $p^k q^{n-k}$. A segunda é que o total de possibilidades em que há o mesmo número de caras e coroas é o conjunto de todos os anagramas da sequência de Hs e Ts que deu origem à probabilidade anterior, isto é, há $\\frac{n!}{k!(n-k)!}$ possibilidades para o mesmo número de caras.\n",
    "\n",
    "Então, se $X$ é o número de caras que saem em $n$ jogadas:\n",
    "\n",
    "$$\n",
    "P(X=k)=\n",
    "\\frac{n!}{k!(n-k)!} p^k (q)^{(n-k)}\n",
    "$$\n",
    "\n",
    "Mais formalmente, dizemos que uma variável aleatória $X$ segue uma distribuição binomial utilizando a seguinte notação: $X$~$Bin(n,p)$. Essa notação pode ser lida como: $X$ segue uma distribuição binomial com $n$ tentativas e $p$ como probabilidade de sucesso em cada evento independente. A distribuição binomial modela a número de sucessos (o evento de interesse) em uma determinada quantidade de tentativas. \n",
    "\n",
    "### Condições da distribuição binomial\n",
    "\n",
    "Para que um experimento possa ser modelado por uma distribuição binomial, ele precisa ter as seguintes propriedades:\n",
    "\n",
    "- ser uma contagem de $n$ repetições (ou tentativas, ou ensaios) idênticas;\n",
    "- cada repetição tem apenas 2 resultados possíveis: um é denominado sucesso (o resultado de interesse, que não necessariamente é positivo) e o outro, fracasso;\n",
    "- a probabilidade de sucesso para cada ensaio é denominada $p$ e será constante em cada repetição. Consequentemente, a probabilidade de fracasso $(1-p)$ também não varia de tentativa para tentativa;\n",
    "- as tentativas são independentes.\n",
    "\n",
    "### Esperança e Variância\n",
    "\n",
    "Se $X$~$Bin(n,p)$, o valor esperado $E(X)$ e a variância $Var(X)$ são dados por:\n",
    "\n",
    "$\\qquad\\qquad E(X) = np$\n",
    "\n",
    "$\\qquad\\qquad Var(X) = np(1-p)$"
   ]
  },
  {
   "cell_type": "code",
   "execution_count": 3,
   "metadata": {},
   "outputs": [],
   "source": [
    "import pandas as pd\n",
    "import matplotlib.pyplot as plt\n",
    "import numpy as np\n",
    "\n",
    "from scipy import stats #importa apenas as funções de estatísticas da biblioteca SciPy."
   ]
  },
  {
   "cell_type": "markdown",
   "metadata": {},
   "source": [
    "# Exemplo: jogando uma moeda várias vezes\n",
    "\n",
    "Tenho uma moeda que tem probabilidade $p$ de dar cara. Se eu jogo a moeda $n$ vezes, quantas caras vou conseguir?"
   ]
  },
  {
   "cell_type": "code",
   "execution_count": 7,
   "metadata": {},
   "outputs": [],
   "source": [
    "def varias_moedas(n, p):\n",
    "    caras = 0\n",
    "    for _ in range(n):\n",
    "        deu_cara = np.random.random() < p\n",
    "        if deu_cara:\n",
    "            caras = caras + 1\n",
    "    return caras"
   ]
  },
  {
   "cell_type": "code",
   "execution_count": 10,
   "metadata": {},
   "outputs": [
    {
     "name": "stdout",
     "output_type": "stream",
     "text": [
      "48\n"
     ]
    }
   ],
   "source": [
    "print(varias_moedas(100, 0.5))"
   ]
  },
  {
   "cell_type": "markdown",
   "metadata": {},
   "source": [
    "## Repetindo o experimento...\n",
    "\n",
    "Toda vez que chamo a função `varias_moedas`, encontro um valor diferente. Como será que esses valores se distribuem ao longo de vários ($m$) ensaios?"
   ]
  },
  {
   "cell_type": "code",
   "execution_count": 41,
   "metadata": {},
   "outputs": [],
   "source": [
    "def varios_ensaios(m, n, p):\n",
    "    quantas_caras = np.zeros(n+1)\n",
    "    for _ in range(m):\n",
    "        n_caras = varias_moedas(n, p)\n",
    "        quantas_caras[n_caras] += 1\n",
    "    return quantas_caras"
   ]
  },
  {
   "cell_type": "code",
   "execution_count": 68,
   "metadata": {},
   "outputs": [
    {
     "data": {
      "image/png": "[encoded data removed]",
      "text/plain": [
       "<Figure size 576x144 with 1 Axes>"
      ]
     },
     "metadata": {
      "needs_background": "light"
     },
     "output_type": "display_data"
    }
   ],
   "source": [
    "m = 1000 # Número de ensaios\n",
    "n = 15 # Moedas jogadas por ensaio\n",
    "p = 0.5 # Probabilidade de dar cara em uma moeda\n",
    "quantas_caras = varios_ensaios(m, n, p) # Quantas vezes aconteceu cada número de caras ao longo dos ensaios\n",
    "plt.figure(figsize=(8,2))\n",
    "plt.bar(range(len(quantas_caras)), quantas_caras)\n",
    "plt.xticks(range(len(quantas_caras)))\n",
    "plt.xlabel('Número de caras')\n",
    "plt.ylabel('Número de ensaios')\n",
    "plt.title('Em quantos ensaios tivemos um determinado número de caras?')\n",
    "plt.show()"
   ]
  },
  {
   "cell_type": "markdown",
   "metadata": {},
   "source": [
    "---"
   ]
  },
  {
   "cell_type": "markdown",
   "metadata": {},
   "source": [
    "## Pacote Python para distribuições"
   ]
  },
  {
   "cell_type": "code",
   "execution_count": 2,
   "metadata": {},
   "outputs": [
    {
     "name": "stdout",
     "output_type": "stream",
     "text": [
      "14\n",
      "[15 12 14  9 11  9 10 13 12 13]\n"
     ]
    }
   ],
   "source": [
    "from scipy import stats\n",
    "\n",
    "n, p = 25, 0.5\n",
    "\n",
    "# Gerar o resultado de *um* ensaio com a distribuição\n",
    "print(stats.binom.rvs(n, p))\n",
    "\n",
    "# Gerar o resultado de vários ensaios com a distribuição\n",
    "print(stats.binom.rvs(n, p, size=10))"
   ]
  },
  {
   "cell_type": "code",
   "execution_count": 63,
   "metadata": {},
   "outputs": [
    {
     "data": {
      "image/png": "[encoded data removed]",
      "text/plain": [
       "<Figure size 576x144 with 1 Axes>"
      ]
     },
     "metadata": {
      "needs_background": "light"
     },
     "output_type": "display_data"
    }
   ],
   "source": [
    "# Gerar a função de distribuição de probabilidade\n",
    "# Veja: agora eu estou trabalhando com *esperança* (do modelo!) e não mais com amostras!\n",
    "n = 15 # Moedas jogadas por ensaio\n",
    "p = 0.5 # Probabilidade de dar cara em uma moeda\n",
    "quantas_caras = [stats.binom.pmf(y, n, p) for y in range(0,n+1)] # Probabilidade de encontrar cada número de caras ao longo dos ensaios\n",
    "plt.figure(figsize=(8,2))\n",
    "plt.bar(range(len(quantas_caras)), quantas_caras)\n",
    "plt.xticks(range(len(quantas_caras)))\n",
    "plt.xlabel('Número de caras')\n",
    "plt.ylabel('Probabilidade')\n",
    "plt.title('Probabilidade de encontrar um determinado número de caras')\n",
    "plt.show()"
   ]
  },
  {
   "cell_type": "code",
   "execution_count": 7,
   "metadata": {},
   "outputs": [
    {
     "name": "stdout",
     "output_type": "stream",
     "text": [
      "0.303619384765625\n"
     ]
    }
   ],
   "source": [
    "# E a probabilidade de encontrar um valor de caras *menor ou igual* a um determinado valor?\n",
    "# P(x<=k | n,p)\n",
    "n, p = 15, 0.5\n",
    "p_ = stats.binom.cdf(8, n, p)\n",
    "print(p_)"
   ]
  },
  {
   "cell_type": "markdown",
   "metadata": {},
   "source": [
    "<div id=\"ex1\"></div>\n",
    "\n",
    "# Exercício 1\n",
    "*Objetivo: associar parâmetros de uma distribuição estatística teórica a aspectos de um problema prático*\n",
    "\n",
    "Nesta atividade, trabalharemos com dados históricos dos jogos do Corinthians. Como somos torcedores muito exigentes, achamos que somente vitórias são resultados favoráveis, ao passo que derrotas ou empates são sempre desfavoráveis.\n",
    "\n",
    "Estamos assumindo que cada jogo do Corinthians tem uma probabilidade $p$ de ter um resultado favorável. Também, vamos assumir que cada jogo é independente dos outros, isto é, \"novo dia, novo jogo\".\n",
    "\n",
    "Então, observe que cada jogo do Corinthians é equivalente a *jogar uma moeda*. Portanto, observar vários jogos do Corinthians equivale a observar uma distribuição binomial.\n",
    "\n",
    "Usando os dados abaixo, encontre os parâmetros $n$ e $p$ dessa distribuição binomial:"
   ]
  },
  {
   "cell_type": "code",
   "execution_count": 40,
   "metadata": {},
   "outputs": [
    {
     "data": {
      "text/html": [
       "<div>\n",
       "<style scoped>\n",
       "    .dataframe tbody tr th:only-of-type {\n",
       "        vertical-align: middle;\n",
       "    }\n",
       "\n",
       "    .dataframe tbody tr th {\n",
       "        vertical-align: top;\n",
       "    }\n",
       "\n",
       "    .dataframe thead th {\n",
       "        text-align: right;\n",
       "    }\n",
       "</style>\n",
       "<table border=\"1\" class=\"dataframe\">\n",
       "  <thead>\n",
       "    <tr style=\"text-align: right;\">\n",
       "      <th></th>\n",
       "      <th>DATA</th>\n",
       "      <th>TIME MANDANTE</th>\n",
       "      <th>TIME VISITANTE</th>\n",
       "      <th>VITORIA</th>\n",
       "    </tr>\n",
       "  </thead>\n",
       "  <tbody>\n",
       "    <tr>\n",
       "      <th>0</th>\n",
       "      <td>10/09/1910</td>\n",
       "      <td>UNIÃO LAPA</td>\n",
       "      <td>CORINTHIANS</td>\n",
       "      <td>0</td>\n",
       "    </tr>\n",
       "    <tr>\n",
       "      <th>1</th>\n",
       "      <td>14/09/1910</td>\n",
       "      <td>CORINTHIANS</td>\n",
       "      <td>ESTRELA POLAR</td>\n",
       "      <td>1</td>\n",
       "    </tr>\n",
       "    <tr>\n",
       "      <th>2</th>\n",
       "      <td>27/09/1910</td>\n",
       "      <td>CORINTHIANS</td>\n",
       "      <td>LAPA (AA)</td>\n",
       "      <td>1</td>\n",
       "    </tr>\n",
       "    <tr>\n",
       "      <th>3</th>\n",
       "      <td>01/01/1911</td>\n",
       "      <td>CORINTHIANS</td>\n",
       "      <td>CARLOS GOMES</td>\n",
       "      <td>1</td>\n",
       "    </tr>\n",
       "    <tr>\n",
       "      <th>4</th>\n",
       "      <td>01/01/1911</td>\n",
       "      <td>CORINTHIANS</td>\n",
       "      <td>SANTANNA</td>\n",
       "      <td>1</td>\n",
       "    </tr>\n",
       "  </tbody>\n",
       "</table>\n",
       "</div>"
      ],
      "text/plain": [
       "         DATA TIME MANDANTE TIME VISITANTE  VITORIA\n",
       "0  10/09/1910    UNIÃO LAPA    CORINTHIANS        0\n",
       "1  14/09/1910   CORINTHIANS  ESTRELA POLAR        1\n",
       "2  27/09/1910   CORINTHIANS      LAPA (AA)        1\n",
       "3  01/01/1911   CORINTHIANS   CARLOS GOMES        1\n",
       "4  01/01/1911   CORINTHIANS       SANTANNA        1"
      ]
     },
     "execution_count": 40,
     "metadata": {},
     "output_type": "execute_result"
    }
   ],
   "source": [
    "import pandas as pd\n",
    "df = pd.read_csv('dados/corinthians/jogos_do_corinthians.csv')\n",
    "df.head()\n"
   ]
  },
  {
   "cell_type": "markdown",
   "metadata": {},
   "source": [
    "# Exercício 2\n",
    "*Objetivo: calcular comportamentos prováveis usando a pmf*\n",
    "\n",
    "Quando temos uma distribuição teórica, ganhamos a \"vantagem\" de poder calcular probabilidades usando modelos matemáticos.\n",
    "\n",
    "A função `pmf` (probability mass function) do pacote `scipy.stats` calcula $P(X=k)$ à partir de parâmetros da distribuição. Nesse caso, queremos trabalhar com a distribuição binomial, então os parâmetros são os valores de $n$ e $p$. O código abaixo, por exemplo, calcula a probabilidade de encontrar $k$ caras em $n$ jogadas de moeda, com $P(H)=p$:"
   ]
  },
  {
   "cell_type": "code",
   "execution_count": 20,
   "metadata": {},
   "outputs": [
    {
     "name": "stdout",
     "output_type": "stream",
     "text": [
      "0.17619705200195296\n"
     ]
    }
   ],
   "source": [
    "import scipy.stats as st\n",
    "k = 10\n",
    "n = 20\n",
    "p = 0.5\n",
    "x = st.binom.pmf(k, n, p)\n",
    "print(x)"
   ]
  },
  {
   "cell_type": "markdown",
   "metadata": {},
   "source": [
    "Com base neste código, calcule a probabilidade de, se sortearmos 10 jogos aleatórios do Corinthians, encontramos exatamente 8 vitórias."
   ]
  },
  {
   "cell_type": "markdown",
   "metadata": {},
   "source": [
    "# Exercício 3\n",
    "*Objetivo: usar probabilidades cumulativas para evidenciar eventos*\n",
    "\n",
    "Outra função importante do pacote `stats` é a `cdf` (cumulative distribution function). Essa função calcula $P(x \\leq k)$. Por exemplo, para saber a probabilidade de encontrarmos 0 ou 1 caras em 5 jogadas, podemos usar tanto a soma explícita da `pmf` quanto a `cdf`:"
   ]
  },
  {
   "cell_type": "code",
   "execution_count": 23,
   "metadata": {},
   "outputs": [
    {
     "name": "stdout",
     "output_type": "stream",
     "text": [
      "0.18749999999999994 0.1875\n"
     ]
    }
   ],
   "source": [
    "import scipy.stats as st\n",
    "p1 = st.binom.pmf(0, 5, 0.5) + st.binom.pmf(1, 5, 0.5)\n",
    "p2 = st.binom.cdf(1, 5, 0.5) \n",
    "print(p1, p2)"
   ]
  },
  {
   "cell_type": "markdown",
   "metadata": {},
   "source": [
    "Usando a função `cdf`, calcule a probabilidade de, se sortearmos 20 jogos do corinthians:\n",
    "\n",
    "1. Encontrarmos 5 ou menos vitórias\n",
    "1. Encontrarmos 5 ou mais vitórias\n",
    "1. Encontrarmos 10 a 15 vitórias"
   ]
  },
  {
   "cell_type": "code",
   "execution_count": 24,
   "metadata": {},
   "outputs": [],
   "source": [
    "# Faça seu código aqui"
   ]
  },
  {
   "cell_type": "markdown",
   "metadata": {},
   "source": [
    "# Exercício 4\n",
    "*Objetivo: usar a CDF para calcular diferenças entre grupos*\n",
    "\n",
    "Algumas pessoas dizem que jogar \"em casa\" dá uma vantagem natural aos times, e, ao jogar fora de casa, o time está em desvantagem. Isso acontece devido ao cansaço dos jogadores ao viajar, à presença da torcida, ou talvez até a particularidades do próprio campo de futebol. Neste exercício, vamos verificar se essa hipótese é real.\n",
    "\n",
    "Neste momento, já sabemos parâmetros para uma distribuição binomial que modela todos os jogos do Corinthians. \n",
    "\n",
    "(a) Encontre o número de jogos ($n_c$) e o número de vitória ($k_c$) relacionado aos jogos do Corinthians \"em casa\".\n",
    "\n",
    "(b) Assumindo que a probabilidade de vitória ($p$) é aquela que calculamos no exercício 1, qual é a probabilidade $p_0$ de encontrarmos $k_c$ ou mais vitórias em $n_c$ jogos?\n",
    "\n",
    "(c) Veja que calculamos $p_0$ *sob a hipótese* de que a probabilidade de vitória em jogos em casa é $p$. O que o valor que você encontrou para $p_0$ indica sobre essa hipótese?\n",
    "\n",
    "(d) O que pode ser dito *sobre a hipótese inicial* à partir dessa probabilidade calculada?\n",
    "\n",
    "(e) Calcule o valor $p_c = k_c/n_c$. Esse é um *novo modelo*, que usa apenas dados relacionados a jogos \"em casa\". Usando esse novo modelo, refaça o exercício (b). Como esse resultado se contrasta com o anterior?"
   ]
  },
  {
   "cell_type": "code",
   "execution_count": 35,
   "metadata": {},
   "outputs": [
    {
     "name": "stdout",
     "output_type": "stream",
     "text": [
      "2867 1750\n",
      "0.0\n",
      "0.5082004953316556\n"
     ]
    }
   ],
   "source": [
    "nc = len(df [df['TIME MANDANTE']=='CORINTHIANS'])\n",
    "kc =len(df [ (df['TIME MANDANTE']=='CORINTHIANS') & (df['VITORIA']==1) ])\n",
    "print(nc, kc)\n",
    "p = 1-st.binom.cdf(kc-1, nc, 0.51)\n",
    "print(p)\n",
    "\n",
    "pc = 1-st.binom.cdf(kc-1, nc, kc/nc)\n",
    "print(pc)"
   ]
  },
  {
   "cell_type": "markdown",
   "metadata": {},
   "source": [
    "# Exercício 5\n",
    "*Objetivo: usar um teste inferencial para encontrar viéses em uma população*\n",
    "\n",
    "A probabilidade que calculamos no exercício 4 pode ser generalizada para: \"a probabilidade de observar um efeito tão ou mais extremo quanto o que observamos, sob a hipótese de que um modelo específico se aplica\". Se esse probabilidade é muito baixa, provavelmente o modelo não se aplica - ou, ao menos, o fenômeno é muito raro.\n",
    "\n",
    "Vamos aplicar essa ideia para outro cenário. Suponha uma sala de aula com 20 pessoas. Se não há nenhum tipo de viés de gênero, então a probabilidade de uma pessoa matriculada nesse curso ser homem ou mulher é igual (a 50%). Sob esta hipótese:\n",
    "\n",
    "(a) Qual é a probabilidade de haver 12 ou mais mulheres nesse grupo? Se observarmos 12 mulheres, é seguro rejeitar a hipótese de que não há viés de gênero?\n",
    "\n",
    "(b) Qual é a probabilidade de haver 17 ou mais mulheres nesse grupo? Se observarmos 17 mulheres, é seguro rejeitar a hipótese de que não há viés de gênero?\n",
    "\n",
    "(c) Repita o experimento usando dados da sua sala de aula.\n",
    "\n",
    "(d) Repita o experimento usando dados da sua sala de aula, mas usando um modelo estimado com dados de uma outra sala de aula do seu mesmo curso (por exemplo, a turma do ano ou semestre anterior ao seu).\n"
   ]
  },
  {
   "cell_type": "code",
   "execution_count": null,
   "metadata": {},
   "outputs": [],
   "source": []
  }
 ],
 "metadata": {
  "anaconda-cloud": {},
  "kernelspec": {
   "display_name": "Python 3.7.12",
   "language": "python",
   "name": "python3"
  },
  "language_info": {
   "codemirror_mode": {
    "name": "ipython",
    "version": 3
   },
   "file_extension": ".py",
   "mimetype": "text/x-python",
   "name": "python",
   "nbconvert_exporter": "python",
   "pygments_lexer": "ipython3",
   "version": "3.11.4"
  },
  "vscode": {
   "interpreter": {
    "hash": "48a163085726af4aa892ebfc5efd6be8ee4b935d9ea37781e4f79f4457b77d39"
   }
  }
 },
 "nbformat": 4,
 "nbformat_minor": 4
}
