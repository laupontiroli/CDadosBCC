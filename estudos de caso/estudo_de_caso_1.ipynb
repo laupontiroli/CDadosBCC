{
 "cells": [
  {
   "cell_type": "markdown",
   "metadata": {},
   "source": [
    "# Estudo de caso: Animais no Canadá\n",
    "\n",
    "O Canadá é visto como um país pacato. Porém, essa visão não leva em conta sua feroz vida selvagem, composta por terríveis espécies como os alces (Elk), os ursos cinzentos (Grizly Bear), os ursos negros (Black Bear) e os gansos (Goose).\n",
    "\n",
    "Desses animais, o mais temido é o ganso, que é uma fera alada capaz de voar por quilômetros e formar emboscadas.\n",
    "\n",
    "O Canadá leva os encontros com animais selvagens muito a sério, e mantém um [registro público de encontros com animais selvagens](https://open.canada.ca/data/en/dataset/743a0b4a-9e33-4b12-981a-9f9fd3dd1680?=undefined&wbdisable=true). A tabela `pca-number-of-aggressive-encounters-by-species.csv` foi baixada diretamente desse site, e classifica os encontros com animais selvagens por tipo. Em especial, dois tipos são perigosos: `Physical or Aggressive Display`, que é quando o animal tem comportamento agressivo, como morder um ser humano, e `Bluff Charge`, que é quando o animal corre em direção a um humano com a intenção de assustá-lo (e isso pode acabar culminando num comportamento agressivo)."
   ]
  },
  {
   "cell_type": "code",
   "execution_count": 24,
   "metadata": {},
   "outputs": [
    {
     "data": {
      "text/plain": [
       "Animal Behaviour\n",
       "Contact-Property                  41\n",
       "Physical or Aggressive Display    33\n",
       "Contact-People                    30\n",
       "Chase                             16\n",
       "Escort (Follow-Flank)             12\n",
       "Contact-Pet                       11\n",
       "Bluff Charge                      10\n",
       "Predatory Approach                 5\n",
       "Name: count, dtype: int64"
      ]
     },
     "execution_count": 24,
     "metadata": {},
     "output_type": "execute_result"
    }
   ],
   "source": [
    "import pandas as pd\n",
    "\n",
    "df = pd.read_csv('pca-number-of-aggressive-encounters-by-species.csv')\n",
    "df.value_counts('Animal Behaviour')"
   ]
  },
  {
   "cell_type": "markdown",
   "metadata": {},
   "source": [
    "Neste estudo de caso, vamos elencar os animais que mais espalham perigo no Canadá.\n",
    "\n",
    "Manipule a tabela para encontrar os animais que mais foram responsáveis por encontros `Physical or Agressive Display` ou `Bluff Charge`, somados ao longo de todo os anos de registro.\n",
    "\n",
    "Coloque o resultado num dataframe cujo índice é a espécie do animal e a coluna `Total` tem números inteiros (`int`) que representam a soma de todos os encontros do tipo `Physical or Agressive Display` ou `Bluff Charge` da espécie correspondente."
   ]
  },
  {
   "cell_type": "code",
   "execution_count": null,
   "metadata": {},
   "outputs": [],
   "source": [
    "# Resolva seu exercício aqui\n",
    "\n",
    "\n"
   ]
  },
  {
   "cell_type": "code",
   "execution_count": null,
   "metadata": {},
   "outputs": [],
   "source": [
    "### MINHA SOLUÇÃO ESTÁ LÁ EMBAIXO!!!\n",
    "\n",
    "\n",
    "\n",
    "\n",
    "\n",
    "#### NÃO ME COPIE!!!\n",
    "\n",
    "\n",
    "\n",
    "\n",
    "\n",
    "#### FAÇA O SEU\n",
    "\n",
    "\n",
    "\n",
    "\n",
    "\n",
    "\n",
    "\n",
    "\n",
    "#### SUA SOLUÇÃO JÁ ESTÁ FUNCIONANDO, SEM OLHAR A MINHA??\n",
    "\n",
    "\n",
    "\n",
    "\n",
    "\n",
    "\n",
    "\n",
    "\n",
    "\n",
    "\n",
    "#### ÚLTIMO AVISO!!!\n",
    "\n",
    "\n",
    "\n",
    "\n",
    "\n",
    "\n",
    "\n"
   ]
  },
  {
   "cell_type": "code",
   "execution_count": 26,
   "metadata": {},
   "outputs": [
    {
     "data": {
      "text/html": [
       "<div>\n",
       "<style scoped>\n",
       "    .dataframe tbody tr th:only-of-type {\n",
       "        vertical-align: middle;\n",
       "    }\n",
       "\n",
       "    .dataframe tbody tr th {\n",
       "        vertical-align: top;\n",
       "    }\n",
       "\n",
       "    .dataframe thead th {\n",
       "        text-align: right;\n",
       "    }\n",
       "</style>\n",
       "<table border=\"1\" class=\"dataframe\">\n",
       "  <thead>\n",
       "    <tr style=\"text-align: right;\">\n",
       "      <th></th>\n",
       "      <th>Total</th>\n",
       "    </tr>\n",
       "    <tr>\n",
       "      <th>Species Common Name</th>\n",
       "      <th></th>\n",
       "    </tr>\n",
       "  </thead>\n",
       "  <tbody>\n",
       "    <tr>\n",
       "      <th>Elk</th>\n",
       "      <td>700</td>\n",
       "    </tr>\n",
       "    <tr>\n",
       "      <th>Grizzly Bear</th>\n",
       "      <td>115</td>\n",
       "    </tr>\n",
       "    <tr>\n",
       "      <th>Black Bear</th>\n",
       "      <td>104</td>\n",
       "    </tr>\n",
       "    <tr>\n",
       "      <th>Mule Deer</th>\n",
       "      <td>58</td>\n",
       "    </tr>\n",
       "    <tr>\n",
       "      <th>Plains Bison</th>\n",
       "      <td>28</td>\n",
       "    </tr>\n",
       "  </tbody>\n",
       "</table>\n",
       "</div>"
      ],
      "text/plain": [
       "                     Total\n",
       "Species Common Name       \n",
       "Elk                    700\n",
       "Grizzly Bear           115\n",
       "Black Bear             104\n",
       "Mule Deer               58\n",
       "Plains Bison            28"
      ]
     },
     "execution_count": 26,
     "metadata": {},
     "output_type": "execute_result"
    }
   ],
   "source": [
    "# Minha solução - faça a sua antes de olhar esta!\n",
    "import pandas as pd\n",
    "\n",
    "df = pd.read_csv('pca-number-of-aggressive-encounters-by-species.csv')\n",
    "df = df.fillna(0)\n",
    "df['Total'] = df['Total Incidents 2017'] + df['Total Incidents 2018'] + df['Total Incidents 2019'] + df['Total Incidents 2020'] + df['Total Incidents 2021']\n",
    "df['Total'] = df['Total'].astype(int)\n",
    "df = pd.merge(left=df[ df['Animal Behaviour']=='Bluff Charge'],\n",
    "              right=df[ df['Animal Behaviour']=='Physical or Aggressive Display'],\n",
    "              suffixes=('0', '1'),\n",
    "              on='Species Common Name')\n",
    "df['Total'] = df['Total0'] + df['Total1']\n",
    "df = df.sort_values(by='Total', ascending=False)\n",
    "df = df.set_index('Species Common Name')\n",
    "df = df[['Total']]\n",
    "df.head()"
   ]
  },
  {
   "cell_type": "code",
   "execution_count": null,
   "metadata": {},
   "outputs": [],
   "source": []
  }
 ],
 "metadata": {
  "kernelspec": {
   "display_name": "cdados",
   "language": "python",
   "name": "python3"
  },
  "language_info": {
   "codemirror_mode": {
    "name": "ipython",
    "version": 3
   },
   "file_extension": ".py",
   "mimetype": "text/x-python",
   "name": "python",
   "nbconvert_exporter": "python",
   "pygments_lexer": "ipython3",
   "version": "3.11.4"
  }
 },
 "nbformat": 4,
 "nbformat_minor": 2
}
