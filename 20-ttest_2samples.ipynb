{
 "cells": [
  {
   "cell_type": "markdown",
   "metadata": {},
   "source": [
    "# T-Teste para duas populações\n",
    "**Objetivo: ao final desta aula, o aluno saberá aplicar e interpretar um t-teste para avaliar se as médias de duas populações são diferentes**\n"
   ]
  },
  {
   "cell_type": "markdown",
   "metadata": {},
   "source": [
    "Até o momento, sabemos que nem sempre nossos dados condizem com nossos modelos. Para isso, temos feito o seguinte procedimento: primeiro, coletamos dados gerando uma amostra de tamanho $N$, e calculamos sua média amostral $\\bar{X}$. Daí, se sabemos a média $\\mu$ e a variância $\\sigma^2$ teóricas do nosso modelo, então usamos essa informação para inferir que:\n",
    "\n",
    "$$\n",
    "\\bar{X} \\sim N(\\mu, \\sigma^2/N)\n",
    "$$\n",
    "\n",
    "Isso é equivalente a calcular a estatística $Z = (\\bar{X}-\\mu)/\\sigma$ e saber que ela segue uma distribuição normal padrão, isto é, $Z \\sim N(0,1)$.\n",
    "\n",
    "Caso não saibamos a variância do modelo, passamos a usar a variância amostral $S=\\sum_{n=1}^N (x_n-\\bar{x})^2 / (N-1)$, e então, ao invés de calcular uma estatística $Z$, calculamos a estatística $T = (\\bar{X}-\\mu)/S$. A estatística $T$ segue uma distribuição t-student com $N-1$ graus de liberdade:\n",
    "\n",
    "$$\n",
    "T \\sim T(N-1)\n",
    "$$\n",
    "\n",
    "Porém, em várias situações nós não temos um modelo pré-fixado e então geramos amostras. Em várias situações, temos duas amostras (diferentes e independentes) e queremos saber se elas foram geradas por modelos cuja média é a mesma. Veja a importância disso: podemos ter dois grupos de usuários no seu sistema - por exemplo, se temos duas estratégias de jogo, A e B, e queremos saber se elas são igualmente eficazes para pontuar.\n",
    "\n",
    "Vamos fazer um estudo de caso para tornar esse exemplo mais claro. Após, vamos fazer nosso próprio teste com dados reais."
   ]
  },
  {
   "cell_type": "markdown",
   "metadata": {},
   "source": [
    "## O T-Teste para comparar duas populações: um estudo de caso\n",
    "\n",
    "Esse estudo de caso está usando dados que foram cuidadosamente inventados para servirem como um bom exemplo. A cada etapa, refletiremos sobre o que foi feito.\n",
    "\n",
    "Vamos começar com nossos dados. Temos 10 usuários usando a estratégia A. Para eles, $\\bar{A}=100$ e $S_A=10$. Temos também 10 usuários usando a estratégia B, e sua pontuação tem média amostral $\\bar{B}=105$ e desvio padrão amostral $S_B=30$. A questão que queremos resolver é: será que a média da pontuação com a estratégia A é diferente da média usando a estratégia B?\n",
    "\n",
    "\n",
    "### Exercício 1: Avalie a hipótese nula\n",
    "\n",
    "Começamos então com nossa hipótese nula. Avalie a hipótese nula abaixo. Você concorda com essa formulação para a hipótese nula? Caso necessário, reformule a hipótese.\n",
    "\n",
    "$$\n",
    "H_0: \\mu_A = \\mu_B\n",
    "$$\n",
    "\n",
    "### Exercício 2: A distribuição da diferença\n",
    "\n",
    "Se nossa hipótese nula está correta, então temos uma nova variável aleatória aparecendo.\n",
    "\n",
    "Essa variável é: $\\bar{M}=\\bar{A}-\\bar{B}$.\n",
    "\n",
    "Qual deve ser:\n",
    "\n",
    "1. A média de $\\bar{M}$?\n",
    "2. O desvio padrão amostral de $\\bar{M}$? (lembre-se da propriedade: $\\text{Var}(x+y) = \\text{Var}(x) + \\text{Var}(y) + 2\\text{Cov}(x,y)$)\n",
    "\n",
    "### Exercício 3: calculando a estatística T\n",
    "\n",
    "Agora, temos uma variável $\\bar{M}$ para a qual sabemos a média teórica (*sob a hipótese de que H_0 está correta*) e o desvio padrão amostral.\n",
    "\n",
    "Temos agora duas alternativas. Ou calculamos uma estatística $Z$ ou calculamos uma estatística $T$ para nossos dados. Qual dos dois deveríamos calcular, e por que?\n",
    "\n",
    "Calcule a estatística!!!\n",
    "\n",
    "### Exercício 4: calculando a probabilidade de encontrarmos nossas medições para $M$ dada a hipótese nula\n",
    "\n",
    "Agora, podemos usar `stats.t.cdf` para estimar a probabilidade de encontrarmos um valor de $\\bar{M}$ ao menos tão distante de 0 quanto o que foi encontrado. Se o número de amostras dos grupos A e B for igual, então usamos `df=NA+NB-2`.\n",
    "\n",
    "O código abaixo foi feito para calcular essa probabilidade.\n",
    "\n",
    "Acompanhe o código e responda às perguntas que estão nos comentários"
   ]
  },
  {
   "cell_type": "code",
   "execution_count": 7,
   "metadata": {},
   "outputs": [
    {
     "name": "stdout",
     "output_type": "stream",
     "text": [
      "1.8257418583505538 5.477225575051661\n",
      "-0.8660254037844386 0.39004459129895575\n"
     ]
    }
   ],
   "source": [
    "import scipy.stats as stats\n",
    "import numpy as np\n",
    "import pandas as pd\n",
    "import matplotlib.pyplot as plt\n",
    "\n",
    "# (a) O que cada uma dessas variáveis representa?\n",
    "Abar = 100\n",
    "As = 10\n",
    "NA = 30\n",
    "Bbar = 105\n",
    "Bs = 30\n",
    "NB = 30\n",
    "\n",
    "# (b) Desvio padrão de Abar e Bbar. Por que estamos dividindo por N**0.5 e não por N?\n",
    "Sigma_Abar = As/np.sqrt(NA)\n",
    "Sigma_Bbar = Bs/np.sqrt(NB)\n",
    "print(Sigma_Abar, Sigma_Bbar)\n",
    "\n",
    "# (c) Média e desvio padrão de Mbar. Por que temos uma raiz quadrada em Sigma_M?\n",
    "Mbar = Abar - Bbar\n",
    "Sigma_M = np.sqrt( (Sigma_Abar**2) + (Sigma_Bbar**2) )\n",
    "\n",
    "# (d) Estatística T. Por que não usamos Mbar-mu no numerador?\n",
    "T = Mbar / Sigma_M\n",
    "\n",
    "# (e) CDF da distribuição T. Por que estamos multiplicando o resultado por 2?\n",
    "p = stats.t.cdf(T, df=NA+NB-2)*2\n",
    "print(T,p)"
   ]
  },
  {
   "cell_type": "markdown",
   "metadata": {},
   "source": [
    "### Exercício 5: usando o pacote Python\n",
    "\n",
    "No `scipy.stats`, já temos uma função que realiza todos os procedimentos acima por nós. Analisando a chamada da função e seus resultados, o que significam as variáveis `t` e `p`?"
   ]
  },
  {
   "cell_type": "code",
   "execution_count": 4,
   "metadata": {},
   "outputs": [
    {
     "name": "stdout",
     "output_type": "stream",
     "text": [
      "-0.8660254037844386 0.39004459129895575\n"
     ]
    }
   ],
   "source": [
    "t, p = stats.ttest_ind_from_stats(mean1=Abar, std1=As, mean2=Bbar, std2=Bs, nobs1=NA, nobs2=NB)\n",
    "print(t, p)"
   ]
  },
  {
   "cell_type": "markdown",
   "metadata": {},
   "source": [
    "### Exercício 6: interpretando o valor `p`\n",
    "\n",
    "De acordo com os resultados acima: \n",
    "\n",
    "(a) qual é o p-valor relacionado à hipótese nula?\n",
    "\n",
    "(b) a hipótese nula deve ser rejeitada para $\\alpha=5\\%$?"
   ]
  },
  {
   "cell_type": "markdown",
   "metadata": {},
   "source": [
    "# Um caso real\n",
    "\n",
    "No semestre passado, a turma de BCC do Insper fez uma atividade de interfaces que consistia em mostrar um texto na tela e então contar quanto tempo o usuário levaria para responder a uma pergunta:\n",
    "\n",
    "<img src=\"atividade_devlife.png\">\n",
    "\n",
    "Para esta atividade, vamos usar a técnica que aprendemos hoje para verificar se as duas interfaces fizeram diferença. Inicialmente, vamos estabelecer que queremos rejeitar a hipótese nula com $\\alpha=5\\%$, e, agora, vamos partir para a atividade!\n",
    "\n",
    "## Passo 1: limpeza de dados\n",
    "\n",
    "Os dados foram copiados e colados da tabela que foi gerada pelos próprios alunos na atividade do semestre passado. Isso significa que podem haver inconsistências e erros. Analise os dados e corrija as inconsistências, mas *sem eliminá-los*."
   ]
  },
  {
   "cell_type": "code",
   "execution_count": 14,
   "metadata": {},
   "outputs": [
    {
     "data": {
      "text/html": [
       "<div>\n",
       "<style scoped>\n",
       "    .dataframe tbody tr th:only-of-type {\n",
       "        vertical-align: middle;\n",
       "    }\n",
       "\n",
       "    .dataframe tbody tr th {\n",
       "        vertical-align: top;\n",
       "    }\n",
       "\n",
       "    .dataframe thead th {\n",
       "        text-align: right;\n",
       "    }\n",
       "</style>\n",
       "<table border=\"1\" class=\"dataframe\">\n",
       "  <thead>\n",
       "    <tr style=\"text-align: right;\">\n",
       "      <th></th>\n",
       "      <th>Resposta</th>\n",
       "      <th>Tempo</th>\n",
       "      <th>Variante</th>\n",
       "    </tr>\n",
       "  </thead>\n",
       "  <tbody>\n",
       "    <tr>\n",
       "      <th>0</th>\n",
       "      <td>Correta</td>\n",
       "      <td>15.00</td>\n",
       "      <td>A</td>\n",
       "    </tr>\n",
       "    <tr>\n",
       "      <th>1</th>\n",
       "      <td>Correta</td>\n",
       "      <td>33.00</td>\n",
       "      <td>A</td>\n",
       "    </tr>\n",
       "    <tr>\n",
       "      <th>2</th>\n",
       "      <td>Correta</td>\n",
       "      <td>29.00</td>\n",
       "      <td>A</td>\n",
       "    </tr>\n",
       "    <tr>\n",
       "      <th>3</th>\n",
       "      <td>Correta</td>\n",
       "      <td>33.48</td>\n",
       "      <td>A</td>\n",
       "    </tr>\n",
       "    <tr>\n",
       "      <th>4</th>\n",
       "      <td>Correta</td>\n",
       "      <td>54.00</td>\n",
       "      <td>A</td>\n",
       "    </tr>\n",
       "  </tbody>\n",
       "</table>\n",
       "</div>"
      ],
      "text/plain": [
       "  Resposta  Tempo Variante\n",
       "0  Correta  15.00        A\n",
       "1  Correta  33.00        A\n",
       "2  Correta  29.00        A\n",
       "3  Correta  33.48        A\n",
       "4  Correta  54.00        A"
      ]
     },
     "execution_count": 14,
     "metadata": {},
     "output_type": "execute_result"
    }
   ],
   "source": [
    "df = pd.read_csv('devlife_unidades_de_oxigenio.csv')\n",
    "df.head()"
   ]
  },
  {
   "cell_type": "code",
   "execution_count": null,
   "metadata": {},
   "outputs": [],
   "source": []
  },
  {
   "cell_type": "markdown",
   "metadata": {},
   "source": [
    "## Passo 2: a primeira hipótese nula\n",
    "\n",
    "Nossa primeira pergunta é: *será que a média de tempo dos usuários da variante A foi diferente da média de tempo da variante B?*. Para respondê-la:\n",
    "\n",
    "(a) Mostre a média de tempo dos usuários da variante A e da variante B em uma figura.\n",
    "\n",
    "(b) A função `ttest_ind` recebe como parâmetros os valores de duas amostras independentes e calcula todos os parâmetros necessários (médias, variâncias, etc.) e retorna a estatística t e um p-valor relacionado. Na verdade, essa função literalmente calcula a média e desvio padrão amostrais e então chama a função `ttest_ind_from_stats` que usamos acima. Usando a função `ttest_ind`, determine qual é a sua hipótese nula relacionada à pergunta que queremos responder, e calcule um p-valor para ela.\n",
    "\n",
    "(c) De acordo com o p-valor que você encontrou e o valor $\\alpha$ que determinamos, qual é a resposta para a pergunta que fizemos?"
   ]
  },
  {
   "cell_type": "code",
   "execution_count": 15,
   "metadata": {},
   "outputs": [
    {
     "name": "stdout",
     "output_type": "stream",
     "text": [
      "54.65533333333334 65.15229411764706\n"
     ]
    }
   ],
   "source": [
    "A = df[ df['Variante']=='A' ]['Tempo']\n",
    "B = df[ df['Variante']=='B' ]['Tempo']\n",
    "print(np.mean(A), np.mean(B))"
   ]
  },
  {
   "cell_type": "code",
   "execution_count": 16,
   "metadata": {},
   "outputs": [
    {
     "name": "stdout",
     "output_type": "stream",
     "text": [
      "-0.7795047355855033 0.4417888506906762\n"
     ]
    }
   ],
   "source": [
    "# Exemplo de uso da função ttest_ind:\n",
    "t,p = stats.ttest_ind(A,B)\n",
    "print(t,p)"
   ]
  },
  {
   "cell_type": "code",
   "execution_count": 8,
   "metadata": {},
   "outputs": [],
   "source": [
    "# Faça seu código aqui"
   ]
  },
  {
   "cell_type": "markdown",
   "metadata": {},
   "source": [
    "## Passo 3: uma segunda pergunta\n",
    "\n",
    "Agora vamos refazer nossa pergunta. Siga as mesmas etapas que fizemos anteriormente para responder à pergunta: *considerando apenas os usuários que acertaram à questão, há diferença na média de tempos quando usamos as interfaces A ou B*? "
   ]
  },
  {
   "cell_type": "code",
   "execution_count": 18,
   "metadata": {},
   "outputs": [
    {
     "name": "stdout",
     "output_type": "stream",
     "text": [
      "52.77916666666667 80.96818181818182\n"
     ]
    }
   ],
   "source": [
    "# Faça seu código aqui\n",
    "A = df[ df['Variante']=='A' ]\n",
    "filtroA = A['Resposta']=='Correta'\n",
    "A = A[filtroA]['Tempo']\n",
    "B = df[ df['Variante']=='B' ]\n",
    "filtroB = B['Resposta']=='Correta'\n",
    "B = B[filtroB]['Tempo']\n",
    "print(np.mean(A), np.mean(B))"
   ]
  },
  {
   "cell_type": "code",
   "execution_count": null,
   "metadata": {},
   "outputs": [],
   "source": []
  },
  {
   "cell_type": "code",
   "execution_count": 20,
   "metadata": {},
   "outputs": [
    {
     "name": "stdout",
     "output_type": "stream",
     "text": [
      "-1.730947817581554 0.04906477447387571\n"
     ]
    }
   ],
   "source": [
    "# Exemplo de uso da função ttest_ind:\n",
    "t,p = stats.ttest_ind(A,B)\n",
    "print(t,p/2)"
   ]
  },
  {
   "cell_type": "code",
   "execution_count": null,
   "metadata": {},
   "outputs": [],
   "source": []
  }
 ],
 "metadata": {
  "kernelspec": {
   "display_name": "Python 3.7.12",
   "language": "python",
   "name": "python3"
  },
  "language_info": {
   "codemirror_mode": {
    "name": "ipython",
    "version": 3
   },
   "file_extension": ".py",
   "mimetype": "text/x-python",
   "name": "python",
   "nbconvert_exporter": "python",
   "pygments_lexer": "ipython3",
   "version": "3.7.12"
  },
  "orig_nbformat": 4,
  "vscode": {
   "interpreter": {
    "hash": "48a163085726af4aa892ebfc5efd6be8ee4b935d9ea37781e4f79f4457b77d39"
   }
  }
 },
 "nbformat": 4,
 "nbformat_minor": 2
}
