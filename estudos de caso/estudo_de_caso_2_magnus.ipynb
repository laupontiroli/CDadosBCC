{
 "cells": [
  {
   "cell_type": "markdown",
   "metadata": {},
   "source": [
    "# Estudo de Caso: Jogos de Magnus Carlsen\n",
    "\n",
    "Uma das vantagens do xadrez online é que conseguimos facilmente rastrear os resultados de jogos passados. O arquivo `carlsen_games.csv` contém as estatísticas de todos os jogos do jogador Magnus Carlsen nos últimos anos, e vamos trabalhar com eles.\n",
    "\n",
    "DISCLAIMER: Neste estudo de caso, desenvolva seu próprio código e seu próprio raciocínio. Se precisar, faça em grupos. Há uma solução proposta no fim dele, mas ela só deve ser usada para conferir seus resultados - ou para comparar seu código. Em hipótese alguma você deve ver a solução antes de fazer sua própria solução. O motivo disso é que uma parte do motivo de fazer o estudo de caso é entender como buscar as próprias respostas. Então, use a solução apenas depois de ser capaz de julgar se ela está correta ou não. Para garantir que isso será feito, propositalmente coloquei (ou não) alguns erros na solução, então sempre veja a solução mostrada como um olhar crítico. A solução mostrada também não é a única. Proponha otimizações!!!\n",
    "\n",
    "\n",
    "## Enunciado\n",
    "\n",
    "Aqui temos dois arquivos: `carlsen_games.csv` e `user_names.csv`. Gostaríamos de responder às seguintes perguntas:\n",
    "\n",
    "1. Quais são os usernames usados pelo Magnus Carlsen?\n",
    "1. Tipicamente, dizemos que jogar com as brancas leva a maior chance de vitória que jogar com as pretas. Isso se aplica aos jogos do Magnus Carlsen?\n",
    "1. Qual é a probabilidade de vitória anual do Magnus Carlsen, isto é, a probabilidade de vitória a cada ano quando os jogos são agrupados por ano?\n",
    "1. De acordo com o resultado acima, seria correto modelar o número de vitórias mensal do Magnus Carlsen usando uma única distribuição Binomial? Explique por que a Binomial faz sentido para esse modelo, mas não seria correto usar os mesmos parâmetros para todos os meses.\n",
    "1. O [Elo Rating](https://en.wikipedia.org/wiki/Elo_rating_system) é um sistema de pontuação que é usado para rankear jogadores de xadrez: quanto melhor o jogador, melhor seu Elo. Usando um teste de hipóteses adequado, discuta: seria razoável dizer que os jogadores que ganham do Magnus Carlsen tipicamente têm um Elo maior que os que perdem?"
   ]
  },
  {
   "cell_type": "code",
   "execution_count": 61,
   "metadata": {},
   "outputs": [],
   "source": [
    "# Resolva aqui"
   ]
  },
  {
   "cell_type": "code",
   "execution_count": null,
   "metadata": {},
   "outputs": [],
   "source": [
    "#\n",
    "\n",
    "\n",
    "\n",
    "\n",
    "\n",
    "\n",
    "\n",
    "\n",
    "\n",
    "\n",
    "\n",
    "\n",
    "\n",
    "\n",
    "\n",
    "\n",
    "\n",
    "\n",
    "\n",
    "\n",
    "# -----------------------\n",
    "\n",
    "### SOLUÇÃO ESTÁ ABAIXO!!!\n",
    "\n",
    "\n",
    "# ------------------------\n",
    "\n"
   ]
  },
  {
   "cell_type": "code",
   "execution_count": 57,
   "metadata": {},
   "outputs": [
    {
     "name": "stdout",
     "output_type": "stream",
     "text": [
      "['damnsaltythatsport', 'DannytheDonkey', 'DrChampionstein', 'DrDrunkenstein', 'DrGrekenstein', 'DrNykterstein', 'MagnusCarlsen', 'manwithavan', 'neslraCsungaM77', 'STL_Carlsen']\n"
     ]
    }
   ],
   "source": [
    "import pandas as pd\n",
    "\n",
    "df_usernames = pd.read_csv('user_names.csv', encoding='latin1')\n",
    "df = pd.read_csv('carlsen_games.csv')\n",
    "df = df[ df['time_control'] == '60+0' ]\n",
    "magnus = list(df_usernames [df_usernames['real_name']=='Magnus Carlsen']['user_name'])\n",
    "print(magnus)"
   ]
  },
  {
   "cell_type": "code",
   "execution_count": 33,
   "metadata": {},
   "outputs": [
    {
     "name": "stdout",
     "output_type": "stream",
     "text": [
      "0.7201754385964912 0.6521355453582774\n"
     ]
    }
   ],
   "source": [
    "# Prob vitorias\n",
    "carlsen_white = df[ df['white'].isin(magnus)]\n",
    "carlsen_white_vitoria = df[ (df['white'].isin(magnus)) & (df['winner'].isin(magnus)) ]\n",
    "p_vitoria_dado_white = len(carlsen_white_vitoria) / len(carlsen_white)\n",
    "\n",
    "carlsen_black = df[ df['black'].isin(magnus) ]\n",
    "carlsen_black_vitoria = df[ (df['black'].isin(magnus)) & (df['winner'].isin(magnus)) ]\n",
    "p_vitoria_dado_black = len(carlsen_black_vitoria) / len(carlsen_black)\n",
    "\n",
    "print(p_vitoria_dado_white, p_vitoria_dado_black)"
   ]
  },
  {
   "cell_type": "code",
   "execution_count": 50,
   "metadata": {},
   "outputs": [
    {
     "data": {
      "text/plain": [
       "{2018: 0.749691738594328,\n",
       " 2017: 0.0,\n",
       " 2021: 0.6829896907216495,\n",
       " 2020: 0.6708265509133658,\n",
       " 2019: 0.7268760907504364}"
      ]
     },
     "execution_count": 50,
     "metadata": {},
     "output_type": "execute_result"
    }
   ],
   "source": [
    "def get_ano(s):\n",
    "    return int(s.split('.')[0])\n",
    "ano = df['date_played'].apply(get_ano)\n",
    "df['ano'] = ano\n",
    "\n",
    "p_vitorias_ano = dict()\n",
    "\n",
    "for yr in df['ano'].unique():\n",
    "    vitorias = df[ (df['ano']==yr) & (df['winner'].isin(magnus)) ]\n",
    "    jogos = df[ df['ano']==yr ]\n",
    "    p_vitoria_dado_ano = len(vitorias)/len(jogos)\n",
    "    p_vitorias_ano[yr] = p_vitoria_dado_ano\n",
    "\n",
    "p_vitorias_ano"
   ]
  },
  {
   "cell_type": "raw",
   "metadata": {},
   "source": [
    "O número de vitórias mensais do Magnus Carlsen poderia ser modelo usando uma Binomial porque temos N jogos por mês,\n",
    "probabilidade p de vitória e, portanto, um número k de vitórias. Porém, vemos que a probabilidade p muda pelo menos\n",
    "ano a ano, por isso esse parâmetro deveria ser ajustado. Só que a probabilidade de vitória só pode ser calculada no\n",
    "fim de cada temporada, então o melhor que conseguiríamos fazer é tentar prever as vitórias futuras com base em dados\n",
    "passados, o que pode levar a erros."
   ]
  },
  {
   "cell_type": "code",
   "execution_count": 51,
   "metadata": {},
   "outputs": [],
   "source": [
    "elo_perdedores = df[ df['winner'].isin(magnus)]['loser_elo']\n",
    "elo_vencedores = df[ df['loser'].isin(magnus)]['winner_elo']"
   ]
  },
  {
   "cell_type": "code",
   "execution_count": 52,
   "metadata": {},
   "outputs": [
    {
     "data": {
      "text/plain": [
       "count    7800.000000\n",
       "mean     2884.297692\n",
       "std       267.881018\n",
       "min       968.000000\n",
       "25%      2815.000000\n",
       "50%      2948.000000\n",
       "75%      3053.000000\n",
       "max      3269.000000\n",
       "Name: loser_elo, dtype: float64"
      ]
     },
     "execution_count": 52,
     "metadata": {},
     "output_type": "execute_result"
    }
   ],
   "source": [
    "elo_perdedores.describe()"
   ]
  },
  {
   "cell_type": "code",
   "execution_count": 53,
   "metadata": {},
   "outputs": [
    {
     "data": {
      "text/plain": [
       "count    2691.000000\n",
       "mean     2971.297287\n",
       "std       168.911314\n",
       "min      1714.000000\n",
       "25%      2875.000000\n",
       "50%      3007.000000\n",
       "75%      3083.000000\n",
       "max      3265.000000\n",
       "Name: winner_elo, dtype: float64"
      ]
     },
     "execution_count": 53,
     "metadata": {},
     "output_type": "execute_result"
    }
   ],
   "source": [
    "elo_vencedores.describe()"
   ]
  },
  {
   "cell_type": "code",
   "execution_count": 60,
   "metadata": {},
   "outputs": [
    {
     "data": {
      "text/plain": [
       "TtestResult(statistic=-15.798383345696642, pvalue=6.964659304718891e-56, df=10489.0)"
      ]
     },
     "execution_count": 60,
     "metadata": {},
     "output_type": "execute_result"
    }
   ],
   "source": [
    "import scipy.stats as st\n",
    "st.ttest_ind(elo_perdedores, elo_vencedores, alternative='less')"
   ]
  },
  {
   "cell_type": "raw",
   "metadata": {},
   "source": [
    "H0 = media(elo_perdedores) = media(elo_vencedores)\n",
    "alpha = 5%\n",
    "p < alpha\n",
    "rejeitamos a hipótese nula, portanto é correto dizer que a média de Elo dos perdedores é menor que a dos vencedores (hipótese alternativa)\n"
   ]
  },
  {
   "cell_type": "code",
   "execution_count": null,
   "metadata": {},
   "outputs": [],
   "source": []
  },
  {
   "cell_type": "code",
   "execution_count": null,
   "metadata": {},
   "outputs": [],
   "source": []
  }
 ],
 "metadata": {
  "kernelspec": {
   "display_name": "cdados",
   "language": "python",
   "name": "python3"
  },
  "language_info": {
   "codemirror_mode": {
    "name": "ipython",
    "version": 3
   },
   "file_extension": ".py",
   "mimetype": "text/x-python",
   "name": "python",
   "nbconvert_exporter": "python",
   "pygments_lexer": "ipython3",
   "version": "3.11.4"
  }
 },
 "nbformat": 4,
 "nbformat_minor": 2
}
