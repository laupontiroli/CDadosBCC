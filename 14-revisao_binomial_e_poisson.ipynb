{
 "cells": [
  {
   "cell_type": "markdown",
   "metadata": {},
   "source": [
    "# Handout - Distribuições aleatórias discretas"
   ]
  },
  {
   "cell_type": "markdown",
   "metadata": {},
   "source": [
    "# O que é uma distribuição?\n",
    "\n",
    "Essa pergunta é tão difícil quanto a pergunta \"o que é uma probabilidade\". Uma das maneiras de explicar uma distribuição é a seguinte:\n",
    "\n",
    "*Uma distribuição é uma função $P(X=x)$ que informa a probabilidade da variável aleatória $X$ assumir o valor $x$.*\n",
    "\n",
    "Posso inventar uma distribuição, se eu quiser - assim como eu posso inventar um polinômio. A minha distribuição inventada pode ser boa didaticamente, mas modelos matemáticos inventados geralmente não têm nenhuma conexão com a vida real."
   ]
  },
  {
   "cell_type": "markdown",
   "metadata": {},
   "source": [
    "# Exemplo: a viagem de férias\n",
    "\n",
    "Gosto muito de viajar. Às vezes vou para as montanhas, às vezes, para a praia, e outras vezes gosto de visitar cidades diferentes. Minhas viagens podem ser modelas por uma distribuição:\n",
    "\n",
    "* $P(X = \\text{praia}) = 0.5$\n",
    "* $P(X = \\text{montanhas}) = 0.2$\n",
    "* $P(X = \\text{cidade}) = 0.3$\n",
    "\n",
    "Quando eu modelo minhas viagens por uma distribuição, estou dizendo que cada uma das minhas viagens é sorteada aleatoriamente dessa distribuição (ou: é amostrada aleatoriamente). É como se eu jogasse um \"dado\" e sorteasse minha distribuição. Uma maneira de fazer isso é:"
   ]
  },
  {
   "cell_type": "code",
   "execution_count": 1,
   "metadata": {},
   "outputs": [
    {
     "name": "stdout",
     "output_type": "stream",
     "text": [
      "cidade\n"
     ]
    }
   ],
   "source": [
    "import numpy as np\n",
    "\n",
    "viagem = np.random.choice(['praia', 'montanhas', 'cidade'], p=[0.5, 0.2, 0.3])\n",
    "print(viagem)"
   ]
  },
  {
   "cell_type": "markdown",
   "metadata": {},
   "source": [
    "O fato de a probabilidade de eu viajar para a praia ser maior que a probabilidade de viajar para montanhas ou cidade não significa que eu vá, com certeza, para a praia. Porém, ao longo de várias viagens a tendência é que a proporção de viagens para a praia, montanha e cidade se aproxime das probabilidades correspondentes. Varie `N` no código abaixo e verifique o que acontece com as proporções de destinos de viagens quando contamos poucas (5 a 10) viagens, e o que acontece quando contamos muitas (mais de 8000) viagens."
   ]
  },
  {
   "cell_type": "code",
   "execution_count": 2,
   "metadata": {},
   "outputs": [
    {
     "data": {
      "text/plain": [
       "destinos\n",
       "praia        0.49\n",
       "cidade       0.26\n",
       "montanhas    0.25\n",
       "Name: proportion, dtype: float64"
      ]
     },
     "execution_count": 2,
     "metadata": {},
     "output_type": "execute_result"
    }
   ],
   "source": [
    "import numpy as np\n",
    "import pandas as pd\n",
    "\n",
    "N = 100 # Número de viagens\n",
    "viagens = np.random.choice(['praia', 'montanhas', 'cidade'], p=[0.5, 0.2, 0.3], size=N)\n",
    "df = pd.DataFrame()\n",
    "df['destinos'] = viagens\n",
    "df['destinos'].value_counts(normalize=True)"
   ]
  },
  {
   "cell_type": "markdown",
   "metadata": {},
   "source": [
    "## Condicionais em modelos\n",
    "\n",
    "Pode acontecer de eu ter certeza que não vou para a praia - talvez esteja um dia muito frio, ou está chovendo no litoral, ou algo assim. Como minha nova distribuição deve se parecer?\n",
    "\n",
    "Podemos ir pelo caminho matemático e usar diretamente a definição da condicional:\n",
    "\n",
    "$$\n",
    "P(X = \\text{montanha} | X \\neq \\text{praia}) = \\frac{P(X = \\text{montanha} \\cap X \\neq \\text{praia})}{P(X \\neq \\text{praia})}\n",
    "$$\n",
    "\n",
    "Uma outra maneira de pensar é que, já que sabemos que a viagem não será para a praia, podemos excluir essa possibilidade do nosso universo de escolhas e então calcular a proporção das possibilidades restantes.\n",
    "\n",
    "Das duas maneiras, chegaremos a:\n",
    "\n",
    "* $P(X = \\text{montanha} | X \\neq \\text{praia}) = 0.6$\n",
    "* $P(X = \\text{cidade} | X \\neq \\text{praia}) = 0.4$\n"
   ]
  },
  {
   "cell_type": "markdown",
   "metadata": {},
   "source": [
    "# Exercício: o cardápio\n",
    "\n",
    "Num restaurante (sempre um restaurante!) um cliente pode pedir um hamburguer, uma salada ou então batata frita (é um restaurante especial em que ninguém pede duas coisas).\n",
    "\n",
    "* $P(X = \\text{hamburguer}) = 0.5$\n",
    "* $P(X = \\text{salada}) = 0.4$\n",
    "* $P(X = \\text{batata frita}) = p_b$\n",
    "\n",
    "Pergunta-se:\n",
    "\n",
    "1. Qual é a probabilidade $p_b$ de um cliente pedir batata frita? (resposta esperada: $0.1$)\n",
    "1. Um dia, acabou o hamburguer. Nesse dia, qual é a probabilidade de um cliente pedir salada? (resposta esperada: $0.8$)\n"
   ]
  },
  {
   "cell_type": "markdown",
   "metadata": {},
   "source": []
  },
  {
   "cell_type": "code",
   "execution_count": null,
   "metadata": {},
   "outputs": [],
   "source": []
  },
  {
   "cell_type": "markdown",
   "metadata": {},
   "source": [
    "# Uma distribuição \"teórica\"\n",
    "\n",
    "Até o momento, usamos distribuições arbitrárias, isto é, que saíram de dados inventados. Claro, sempre podemos usar uma contagem em uma quantidade grande de dados (ou: uma amostra grande) para *estimar* nossas probabilidades. Na verdade, Machine Learning funciona essencialmente encontrando maneiras eficazes de contar probabilidades e de explorar correlações entre variáveis.\n",
    "\n",
    "Porém, o que queremos aqui é entender que, em algumas situações, podemos modelar o comportamento dos dados e então usar uma amostra relativamente pequena para extrapolar uma distribuição com vários pontos. Isso é parecido com quando sabemos, na física, que $\\Delta S = S_0 + v \\Delta t$, e, à partir disso, precisamos observar um corpo em movimento em poucos pontos para extrapolar sua posição.\n",
    "\n",
    "## A distribuição Binomial\n",
    "\n",
    "A dedução matemática da Binomial está na [aula 11](11-binomial.ipynb), então não vou colocá-la aqui. O que precisamos relembrar é que a distribuição Binomial ocorre quando:\n",
    "\n",
    "1. Realizamos um experimento $n$ vezes\n",
    "1. Cada experimento pode ter dois resultados: \"sucesso\" ou \"não-sucesso\".\n",
    "1. Cada experimento é independente dos demais\n",
    "1. Cada experimento tem a mesma chance $p$ de sucesso\n",
    "1. Queremos contar o número $k$ de sucessos\n",
    "\n",
    "A distribuição Binomial nos dá uma probabilidade $P(X=k | n,p)$ de obtermos $k$ sucessos dado que conhecemos o número $n$ de experimentos e a probabilidade de sucesso em um experimento $p$.\n",
    "\n",
    "Usualmente, a Binomial é explicada como uma série de jogadas de moedas. Veja como esse exemplo corresponde à teoria:\n",
    "\n",
    "| Teoria | Jogada de moeda |\n",
    "| --- | --- |\n",
    "| Realizamos um experimento $n$ vezes | Joguei $n$ moedas |\n",
    "| Cada experimento pode ter dois resultados: \"sucesso\" ou \"não-sucesso\". | Pode dar \"cara\" ou \"coroa\" |\n",
    "| Cada experimento é independente dos demais | O resultado de uma jogada não afeta o resultado da próxima jogada |\n",
    "| Cada experimento tem a mesma chance $p$ de sucesso | Estou usando a mesma moeda toda vez! |\n",
    "| Queremos contar o número $k$ de sucessos | Quero contar o número $k$ de \"cara\"s |\n"
   ]
  },
  {
   "cell_type": "markdown",
   "metadata": {},
   "source": [
    "# Exercício: o cardápio Binomial\n",
    "\n",
    "Em um restaurante, clientes podem pedir hamburguer ou salada (mas não ambos). A probabilidade de pedirem hamburguer é $p=0.7$. Um dia, o restaurante recebe 50 clientes.\n",
    "\n",
    "1. Inicialmente, encontraremos a probabilidade de serem servidos exatamente 10 harmburgueres. Para isso, comece completando a tabela abaixo:\n",
    "\n",
    "| Teoria | Problema em questão |\n",
    "| --- | --- |\n",
    "| Realizamos um experimento $n$ vezes |  |\n",
    "| Cada experimento pode ter dois resultados: \"sucesso\" ou \"não-sucesso\". |  |\n",
    "| Cada experimento é independente dos demais |  |\n",
    "| Cada experimento tem a mesma chance $p$ de sucesso |  |\n",
    "| Queremos contar o número $k$ de sucessos |  |\n",
    "\n",
    "Após, identifique os parâmetros da binomial: $k=?$, $n=?$, $p=?$.\n",
    "\n",
    "Por fim, encontre a probabilidade pedida. Para isso, use a função `pmf` do pacote scipy.stats.\n",
    "\n",
    "2. Usando a distribuição que você encontrou anteriormente, use a função `cdf` do pacote scipy.stats para determinar a probabilidade de, em um dia, o restaurante servir 25 ou menos hamburgueres, ou seja, $P(X \\leq 25)$.\n",
    "\n",
    "3. Vamos usar a distribuição para estimar nossos estoques! Use a função `ppf` para determinar um número $k_0$ tal que há 95% de chance de que o número de hamburgueres servidos no dia seja menos que ele, isto é, $k_0$ tal que $P(X \\leq k_0) = 0.95$.\n"
   ]
  },
  {
   "cell_type": "markdown",
   "metadata": {},
   "source": [
    "# Exercício: é uma Binomial?\n",
    "\n",
    "Veja essas duas situações:\n",
    "\n",
    "* As abelhas operárias da espécie *Scaptotrigona depilis* [podem botar ovos](https://www.scielo.br/j/isz/a/k3rKrY5zNvPTq5zLvBdTQ9S/?format=pdf&lang=pt). Eles podem ser funcionais (para reprodução) ou tróficos (que serão usados para alimentação da rainha). Em uma amostra aleatória, encontramos 161 ovos funcionais e 32 ovos tróficos. Neste caso, é razoável supor que a categoria de um ovo não afeta a categoria do ovo seguinte, e, por isso, cada ovo é independente dos demais. Então, poderíamos modelar a distribuição de ovos como uma Binomial com $p=161/(161+32)$ para tentar prever a proporção de ovos em uma amostra futura.\n",
    "\n",
    "* No Aeroporto de Congonhas, pousam aviões a cada 5 minutos. Pela manhã, podemos contar aviões de cada companhia aérea. Por exemplo, poderíamos contar 10 aviões da Azul e 20 da LATAM. Nesse caso, mesmo que seja possível fazer a conta $p=10/(10+20)$, sabemos que os aviões tem hora marcada e sua distribuição não é aleatória. Por isso, uma distribuição Binomial não pode ser usada para prever quantos aviões teremos em um outro dia.\n",
    "\n",
    "Argumente agora sobre as seguintes situações:\n",
    "\n",
    "* Em 5 pênaltis, um jogador marcou 4. Poderíamos usar a Binomial para saber a probabilidade dele marcar o próximo?\n",
    "\n",
    "* Dos 10 restaurantes que visitei, 7 são muito bons. Eu poderia usar a Binomial para saber a quantidade de bons restaurantes em uma outra cidade?\n",
    "\n",
    "* Tipicamente, em uma disciplina, historicamente, 10% dos alunos reprovam. Eu poderia usar a Binomial para estimar (a) quantos alunos vão reprovar este ano, e (b) se *eu* vou reprovar este ano?"
   ]
  },
  {
   "cell_type": "markdown",
   "metadata": {},
   "source": []
  },
  {
   "cell_type": "markdown",
   "metadata": {},
   "source": [
    "# O incrível som do vinil\n",
    "\n",
    "Hoje em dia, estamos voltando a ver lojas que vendem discos de vinil. O som dos discos de vinil é bastante interessante. O disco de vinil funciona literalmente imprimindo a onda sonora em sulcos ao longo de uma espiral no disco. A agulha da vitrola, então, se vibra mecanicamente seguindo a onda sonora impressa, e essa vibração mecânica é amplificada eletronicamente para se propagar para a caixa de som. Só que, no processo de arraste, algumas vezes a agulha dá um \"pulo\" um pouco mais alto, e isso leva a um som parecido com \"tec\", que é conhecido por ser característico do vinil.\n",
    "\n",
    "Esses \"tec\" acontecem por um defeito de fabricação na trilha (mas, como é um defeito comum, ele acaba virando um \"efeito\"). Vamos tentar usar a Binomial para modelar os defeitos de fabricação na nossa trilha do vinil.\n",
    "\n",
    "Nós conseguimos contar quantos \"tec\" acontecem ao longo da trilha inteira, isto é, contar quantos defeitos de fabricação ocorrem ao longo da 1h de duração do disco. Vamos chamar esse total de $k$.\n",
    "\n",
    "Se quisermos usar uma distribuição Binomial para isso, teríamos que dividir nossa trilha em pedaços bem pequenos (talvez de alguns milissegundos), de forma que cada um desses pedacinhos possa ter zero ou um defeito de fabricação. Se você fizer isso, com $n$ segmentos suficientemente pequenos, pode calcular a probabilidade $p=k/n$ de um segmento ter defeitos, e extrapolar o resultado para outra situação.\n",
    "\n",
    "Porém, podemos fazer algumas deduções matemáticas e encontrar que, quando $n \\rightarrow \\infty$, e, se $np$ for mantido constante igual a $\\lambda$, a distribuição Binomial pode ser escrita numa forma mais simples, que é a distribuição de Poisson. A equação da distribuição de Poisson está na [aula 12](12-poisson.ipynb).\n",
    "\n",
    "Veja, para usar a distribuição de Poisson, estamos supondo que:\n",
    "\n",
    "* Os \"experimentos\" acontecem de forma contínua (por exemplo, no tempo ou no espaço)\n",
    "* Em um intervalo pré-definido, encontramos $\\lambda$ sucessos\n",
    "* Os sucessos são independentes entre si\n",
    "* A probabilidade de sucesso tende a zero, mas é constante\n",
    "\n",
    "A distribuição de Poisson tem somente um parâmetro, $\\lambda$, que é igual à média de sucessos no intervalo que pré-definimos. Se observarmos um intervalo duas vezes maior, teremos $\\lambda$ duas vezes maior, e assim por diante.\n"
   ]
  },
  {
   "cell_type": "markdown",
   "metadata": {},
   "source": [
    "# Exercício: o restaurante de Poisson\n",
    "\n",
    "Num restaurante de frutos do mar, há uma vitrola tocando. Enquanto esperava meu peixe frito, passaram-se 10 minutos e contei 78 \"tec\"s na música tocando. Pede-se:\n",
    "\n",
    "1. Qual é a probabilidade de eu ouvir exatamente 78 \"tec\"s nos próximos 10 minutos?\n",
    "2. Qual é a probabilidade de eu ouvir 40 ou menos \"tec\"s nos próximos 10 minutos?\n",
    "3. Quantos \"tec\"s eu posso esperar ouvir ao longo dos 30 minutos restantes do disco?"
   ]
  },
  {
   "cell_type": "code",
   "execution_count": 4,
   "metadata": {},
   "outputs": [],
   "source": [
    "# Faça sua resposta aqui sem olhar a resposta abaixo\n",
    "\n",
    "\n",
    "\n",
    "\n",
    "\n",
    "\n",
    "\n",
    "\n",
    "\n",
    "\n",
    "\n",
    "\n",
    "\n"
   ]
  },
  {
   "cell_type": "code",
   "execution_count": 5,
   "metadata": {},
   "outputs": [
    {
     "name": "stdout",
     "output_type": "stream",
     "text": [
      "0.045123084284262226\n",
      "1.5800394542527532e-06\n",
      "234\n"
     ]
    }
   ],
   "source": [
    "# Essa é a resposta. Compare com a sua, mas não copie.\n",
    "import scipy.stats as st\n",
    "L = 78\n",
    "\n",
    "# 1\n",
    "p1 = st.poisson.pmf(78, L)\n",
    "print(p1)\n",
    "\n",
    "# 2\n",
    "p2 = st.poisson.cdf(40, L)\n",
    "print(p2)\n",
    "\n",
    "# 3\n",
    "# L -> 10 minutos\n",
    "# N -> 30 minutos\n",
    "N = 3 * L\n",
    "print(N)"
   ]
  },
  {
   "cell_type": "markdown",
   "metadata": {},
   "source": [
    "# Exercício: os buracos na estrada\n",
    "\n",
    "A caminho de um restaurante, contei 10 buracos em 1km de rodovia. Ainda faltam mais 5km de rodovia, e as condições dela são as mesmas. \n",
    "\n",
    "1. Qual é a probabilidade de eu não encontrar mais nenhum buraco no meu caminho?\n",
    "1. Qual é a probabilidade de eu encontrar 60 ou mais buracos no meu caminho?\n",
    "1. Qual é o número de buracos $k_0$ tal que eu tenho 70% de chance de passar por $k_0$ ou menos buracos?"
   ]
  },
  {
   "cell_type": "code",
   "execution_count": 7,
   "metadata": {},
   "outputs": [],
   "source": [
    "# Faça sua resposta aqui sem olhar a resposta abaixo\n",
    "\n",
    "\n",
    "\n",
    "\n",
    "\n",
    "\n",
    "\n",
    "\n",
    "\n",
    "\n",
    "\n",
    "\n",
    "\n"
   ]
  },
  {
   "cell_type": "code",
   "execution_count": 11,
   "metadata": {},
   "outputs": [
    {
     "name": "stdout",
     "output_type": "stream",
     "text": [
      "1.9287498479639178e-22\n",
      "0.09226505195893298\n",
      "54.0\n"
     ]
    }
   ],
   "source": [
    "# Essa é a resposta. Compare com a sua, mas não copie.\n",
    "import scipy.stats as st\n",
    "L = 10 * 5\n",
    "\n",
    "# 1\n",
    "p1 = st.poisson.pmf(0, L)\n",
    "print(p1)\n",
    "\n",
    "# 2\n",
    "p2 = 1-st.poisson.cdf(59, L)\n",
    "print(p2)\n",
    "\n",
    "# 3\n",
    "k0 = st.poisson.ppf(0.7, L)\n",
    "print(k0)\n"
   ]
  },
  {
   "cell_type": "markdown",
   "metadata": {},
   "source": [
    "# Exercício: Binomial ou Poisson\n",
    "\n",
    "Distribuições Binomiais e Poisson são muito parecidas. Poisson são essencialmente Binomiais em que o número de experimentos é tão grande que $n$ e $p$ perdem o significado (qual é o número de experimentos para um tempo contínuo? Qual é a probabilidade de sucesso nesse infinitésimo de tempo?).\n",
    "\n",
    "As situações abaixo foram geradas pelo ChatGPT usando o prompt: \"ChatGPT, me dê 10 situações que podem ser modeladas por uma Binomial, e 10 situações que podem ser modeladas por Poisson\". Então, algumas delas devem ser modeláveis por binomiais, outras por Poisson, e é possível que haja algumas situações que não são modeláveis por nenhuma delas (talvez o ChatGPT tenha alucinado). \n",
    "\n",
    "Argumente sobre:\n",
    "* A distribuição que deve ser usada (ou, alternativamente: por que nenhuma das duas se aplica)\n",
    "* Como deveríamos encontrar os parâmetros ($n,k,p$ ou $\\lambda$):\n",
    "* Qual seria um caso de uso para o modelo\n",
    "\n",
    "---\n",
    "\n",
    "1. Lançamento de uma moeda justa várias vezes para contar o número de caras em um determinado número de tentativas.\n",
    "1. Teste de qualidade de produtos em uma linha de produção, onde você está interessado na proporção de produtos defeituosos.\n",
    "1. Taxa de sucesso em uma campanha de marketing, onde você está medindo a taxa de conversão.\n",
    "1. Número de clientes que fazem uma compra em um site durante um período específico.\n",
    "1. Contagem de acidentes de trânsito em um cruzamento em um determinado dia.\n",
    "1. Número de pacientes em um grupo de controle que desenvolvem uma determinada complicação após uma cirurgia.\n",
    "1. Contagem de falhas de hardware em um servidor ao longo do tempo.\n",
    "1. Número de ligações telefônicas recebidas em um call center em um período de tempo.\n",
    "1. Número de encomendas online em um site durante a hora do almoço.\n",
    "1. Número de falhas em um lote de produtos fabricados em uma linha de montagem.\n",
    "1. Número de acidentes de carro em um trecho de estrada em um determinado período de tempo.\n",
    "1. Contagem de chamadas de emergência recebidas por um centro de atendimento médico em uma noite.\n",
    "1. Número de erros de digitação em um livro de 100 páginas.\n",
    "1. Número de partículas radioativas emitidas em um período específico.\n",
    "1. Contagem de clientes chegando a um caixa em um supermercado em um dia.\n",
    "1. Número de e-mails de spam recebidos por um usuário em uma hora.\n",
    "1. Número de bactérias em uma cultura após um certo tempo de crescimento.\n",
    "1. Número de acidentes de trabalho em uma fábrica em um mês.\n",
    "1. Número de chamadas telefônicas recebidas por um call center em um período de tempo.\n",
    "1. Número de pacientes que chegam a um pronto-socorro em uma hora.\n"
   ]
  },
  {
   "cell_type": "markdown",
   "metadata": {},
   "source": []
  }
 ],
 "metadata": {
  "kernelspec": {
   "display_name": "cdados",
   "language": "python",
   "name": "python3"
  },
  "language_info": {
   "codemirror_mode": {
    "name": "ipython",
    "version": 3
   },
   "file_extension": ".py",
   "mimetype": "text/x-python",
   "name": "python",
   "nbconvert_exporter": "python",
   "pygments_lexer": "ipython3",
   "version": "3.11.4"
  },
  "orig_nbformat": 4
 },
 "nbformat": 4,
 "nbformat_minor": 2
}
