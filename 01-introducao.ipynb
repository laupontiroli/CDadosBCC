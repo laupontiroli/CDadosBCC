{
 "cells": [
  {
   "cell_type": "markdown",
   "metadata": {},
   "source": [
    "# Ciência de Dados para Computação: O que são \"dados\"? O que queremos fazer com eles?"
   ]
  },
  {
   "cell_type": "markdown",
   "metadata": {},
   "source": [
    "**Objetivo da aula:** ao fim desta aula, o aluno será capaz de entender como dados se relacionam a uma série histórica.\n",
    "\n",
    "* Fonte dos dados: https://portal.inmet.gov.br/dadoshistoricos"
   ]
  },
  {
   "cell_type": "markdown",
   "metadata": {},
   "source": [
    "# Mudanças climáticas\n",
    "\n",
    "Um fenômeno bastante discutido hoje em dia é a mudança climática. Trata-se da alteração na temperatura do planeta Terra, nos ciclos de chuvas, etc., que pode causar uma série de problemas, tanto de ordem econômica (pela alteração nas colheitas, por exemplo) quanto de ordem ambiental (permeando tanto a possível extinção de espécies quanto o surgimento de novas doenças e o aparecimento mais frequente condições climáticas extremas como tempestades e grandes secas).\n",
    "\n",
    "Nesta aula, usaremos dados públicos para visualizar os efeitos da mudança climática."
   ]
  },
  {
   "cell_type": "markdown",
   "metadata": {},
   "source": [
    "# Hipóteses e bases de dados\n",
    "\n",
    "Em toda análise de dados, partimos de hipóteses. Uma hipótese é uma afirmação como em: \"se o fenômeno X acontece, então devo ser capaz de observar a medida Y\".\n",
    "\n",
    "# Exercício 1\n",
    "*Objetivo: relacionar fenômenos a possíveis observações*\n",
    "\n",
    "Junto a sua dupla, avalie as hipóteses abaixo com \"plausíveis\" ou \"não-plausíveis\". Ordene as hipóteses plausíveis da \"mais provável\" para a \"menos provável\".\n",
    "\n",
    "1. Se a mudança climática ocorre, então devo ser capaz de observar um aumento nas temperaturas máximas anuais ao longo dos anos\n",
    "1. Se a mudança climática ocorre, então devo ser capaz de observar um aumento nas temperaturas médias anuais ao longo dos anos\n",
    "1. Se a mudança climática ocorre, então devo ser capaz de observar um aumento na umidade do ar média ao longo dos anos\n",
    "1. Se a mudança climática ocorre, então devo ser capaz de observar uma diminuição nas temperaturas mínimas anuais ao longo dos anos\n",
    "1. Se a mudança climática ocorre, então devo ser capaz de observar um aumento na precipitação ao longo dos anos\n"
   ]
  },
  {
   "cell_type": "markdown",
   "metadata": {},
   "source": [
    "## Sobre o INMET\n",
    "\n",
    "Independente de quais hipóteses você e sua dupla avaliaram com mais plausíveis, só podemos confirmá-las ou desconfirmá-las se, de fato, tivermos dados para observar. Para dados ambientais, é evidente que é pouco factível que coletemos, nós mesmos, algumas décadas de dados (especialmente porque temos somente até o fim do semestre para concluir esta disciplina!). Então, para este caso, é uma boa ideia encontrar outras fontes de dados que estejam disponíveis online.\n",
    "\n",
    "Para dados ambientais brasileiros, uma possível fonte é o [Instituto Nacional de Metereologia (INMET)](https://portal.inmet.gov.br/). O INMET disponibiliza dados coletados por estações metereológicas automáticas espalhadas pelo Brasil. O processo de coleta e registro foi iniciada em 2001, com 5 estações, e a cada ano foram sendo adicionadas novas estações, chegando a 588 em 2021.\n",
    "\n",
    "Antes de trabalhar com os dados, precisamos entender como eles estão sendo armazenados.\n",
    "\n",
    "# Exercício 2\n",
    "*Objetivo: abrir um documento CSV e verificar suas propriedades*\n",
    "\n",
    "Abra o [arquivo csv com dados da estação de Brasília de 2001](dados/INMET/2001/INMET_CO_DF_A001_BRASILIA_01-01-2001_A_31-12-2001.CSV) usando o Excel (ou o Openoffice Spreadsheets). Encontre as seguintes informações:\n",
    "\n",
    "1. Quais dados permitem identificar a estação metereológica em questão?\n",
    "1. Quantas linhas de dados correspondem ao cabeçalho que identifica a estação e a coleta?\n",
    "1. Com que frequência os dados ambientais são coletados?\n",
    "1. Quais das hipóteses do exercício 1 poderiam ser avaliadas usando os dados coletados nesta estação?\n",
    "1. Verificando os dados disponíveis, quais outras hipóteses poderíamos formar em relação à mudança climática?\n",
    "\n",
    "# Exercício 3\n",
    "*Objetivo: abrir um documento CSV para verificar sua formatação*\n",
    "\n",
    "Agora, abra o  [arquivo csv](dados/INMET/2001/INMET_CO_DF_A001_BRASILIA_01-01-2001_A_31-12-2001.CSV) usando um editor de texto como Bloco de Notas ou equivalente.\n",
    "\n",
    "1. Como as colunas da tabela de dados são separadas?\n",
    "1. Que marcador (ponto ou vírgula) é usado para separar decimais nos números?\n",
    "\n"
   ]
  },
  {
   "cell_type": "markdown",
   "metadata": {},
   "source": [
    "# Exercício 4\n",
    "*Objetivo: usar o `pandas` para abrir dados em Python*\n",
    "\n",
    "* [Tutorial em vídeo - Parte 1](https://youtu.be/xDwpMtSDK3Y)\n",
    "* [Tutorial em vídeo - Parte 2](https://youtu.be/nxSQwTYYwOQ)\n",
    "\n",
    "1. No código abaixo, relacione cada um dos parâmetros da função `read_csv` a uma propriedade do arquivo csv que você identificou nos exercícios 2 e 3.\n",
    "1. Após a execução, o que é mostrado na tela?"
   ]
  },
  {
   "cell_type": "code",
   "execution_count": 2,
   "metadata": {},
   "outputs": [
    {
     "data": {
      "text/html": [
       "<div>\n",
       "<style scoped>\n",
       "    .dataframe tbody tr th:only-of-type {\n",
       "        vertical-align: middle;\n",
       "    }\n",
       "\n",
       "    .dataframe tbody tr th {\n",
       "        vertical-align: top;\n",
       "    }\n",
       "\n",
       "    .dataframe thead th {\n",
       "        text-align: right;\n",
       "    }\n",
       "</style>\n",
       "<table border=\"1\" class=\"dataframe\">\n",
       "  <thead>\n",
       "    <tr style=\"text-align: right;\">\n",
       "      <th></th>\n",
       "      <th>DATA (YYYY-MM-DD)</th>\n",
       "      <th>HORA (UTC)</th>\n",
       "      <th>PRECIPITAÇÃO TOTAL, HORÁRIO (mm)</th>\n",
       "      <th>PRESSAO ATMOSFERICA AO NIVEL DA ESTACAO, HORARIA (mB)</th>\n",
       "      <th>PRESSÃO ATMOSFERICA MAX.NA HORA ANT. (AUT) (mB)</th>\n",
       "      <th>PRESSÃO ATMOSFERICA MIN. NA HORA ANT. (AUT) (mB)</th>\n",
       "      <th>RADIACAO GLOBAL (KJ/m²)</th>\n",
       "      <th>TEMPERATURA DO AR - BULBO SECO, HORARIA (°C)</th>\n",
       "      <th>TEMPERATURA DO PONTO DE ORVALHO (°C)</th>\n",
       "      <th>TEMPERATURA MÁXIMA NA HORA ANT. (AUT) (°C)</th>\n",
       "      <th>TEMPERATURA MÍNIMA NA HORA ANT. (AUT) (°C)</th>\n",
       "      <th>TEMPERATURA ORVALHO MAX. NA HORA ANT. (AUT) (°C)</th>\n",
       "      <th>TEMPERATURA ORVALHO MIN. NA HORA ANT. (AUT) (°C)</th>\n",
       "      <th>UMIDADE REL. MAX. NA HORA ANT. (AUT) (%)</th>\n",
       "      <th>UMIDADE REL. MIN. NA HORA ANT. (AUT) (%)</th>\n",
       "      <th>UMIDADE RELATIVA DO AR, HORARIA (%)</th>\n",
       "      <th>VENTO, DIREÇÃO HORARIA (gr) (° (gr))</th>\n",
       "      <th>VENTO, RAJADA MAXIMA (m/s)</th>\n",
       "      <th>VENTO, VELOCIDADE HORARIA (m/s)</th>\n",
       "      <th>Unnamed: 19</th>\n",
       "    </tr>\n",
       "  </thead>\n",
       "  <tbody>\n",
       "    <tr>\n",
       "      <th>0</th>\n",
       "      <td>2001-01-01</td>\n",
       "      <td>00:00</td>\n",
       "      <td>0.8</td>\n",
       "      <td>886.0</td>\n",
       "      <td>886.0</td>\n",
       "      <td>885.7</td>\n",
       "      <td>-9999</td>\n",
       "      <td>20.1</td>\n",
       "      <td>19.0</td>\n",
       "      <td>20.7</td>\n",
       "      <td>20.1</td>\n",
       "      <td>19.4</td>\n",
       "      <td>18.9</td>\n",
       "      <td>93</td>\n",
       "      <td>91</td>\n",
       "      <td>93</td>\n",
       "      <td>167</td>\n",
       "      <td>5.3</td>\n",
       "      <td>2.8</td>\n",
       "      <td>NaN</td>\n",
       "    </tr>\n",
       "    <tr>\n",
       "      <th>1</th>\n",
       "      <td>2001-01-01</td>\n",
       "      <td>01:00</td>\n",
       "      <td>3.4</td>\n",
       "      <td>886.1</td>\n",
       "      <td>886.1</td>\n",
       "      <td>886.0</td>\n",
       "      <td>-9999</td>\n",
       "      <td>19.8</td>\n",
       "      <td>19.0</td>\n",
       "      <td>20.0</td>\n",
       "      <td>19.7</td>\n",
       "      <td>19.1</td>\n",
       "      <td>18.9</td>\n",
       "      <td>96</td>\n",
       "      <td>94</td>\n",
       "      <td>95</td>\n",
       "      <td>187</td>\n",
       "      <td>4.0</td>\n",
       "      <td>0.3</td>\n",
       "      <td>NaN</td>\n",
       "    </tr>\n",
       "    <tr>\n",
       "      <th>2</th>\n",
       "      <td>2001-01-01</td>\n",
       "      <td>02:00</td>\n",
       "      <td>1.4</td>\n",
       "      <td>886.2</td>\n",
       "      <td>886.4</td>\n",
       "      <td>886.1</td>\n",
       "      <td>-9999</td>\n",
       "      <td>19.9</td>\n",
       "      <td>19.1</td>\n",
       "      <td>20.0</td>\n",
       "      <td>19.8</td>\n",
       "      <td>19.2</td>\n",
       "      <td>19.0</td>\n",
       "      <td>96</td>\n",
       "      <td>95</td>\n",
       "      <td>95</td>\n",
       "      <td>288</td>\n",
       "      <td>1.1</td>\n",
       "      <td>0.0</td>\n",
       "      <td>NaN</td>\n",
       "    </tr>\n",
       "    <tr>\n",
       "      <th>3</th>\n",
       "      <td>2001-01-01</td>\n",
       "      <td>03:00</td>\n",
       "      <td>0.0</td>\n",
       "      <td>885.8</td>\n",
       "      <td>886.3</td>\n",
       "      <td>885.8</td>\n",
       "      <td>-9999</td>\n",
       "      <td>19.8</td>\n",
       "      <td>19.0</td>\n",
       "      <td>20.0</td>\n",
       "      <td>19.7</td>\n",
       "      <td>19.1</td>\n",
       "      <td>18.5</td>\n",
       "      <td>95</td>\n",
       "      <td>93</td>\n",
       "      <td>95</td>\n",
       "      <td>346</td>\n",
       "      <td>0.9</td>\n",
       "      <td>0.2</td>\n",
       "      <td>NaN</td>\n",
       "    </tr>\n",
       "    <tr>\n",
       "      <th>4</th>\n",
       "      <td>2001-01-01</td>\n",
       "      <td>04:00</td>\n",
       "      <td>0.0</td>\n",
       "      <td>885.4</td>\n",
       "      <td>885.9</td>\n",
       "      <td>885.4</td>\n",
       "      <td>-9999</td>\n",
       "      <td>19.4</td>\n",
       "      <td>18.9</td>\n",
       "      <td>20.0</td>\n",
       "      <td>19.4</td>\n",
       "      <td>19.3</td>\n",
       "      <td>18.8</td>\n",
       "      <td>97</td>\n",
       "      <td>95</td>\n",
       "      <td>97</td>\n",
       "      <td>305</td>\n",
       "      <td>2.8</td>\n",
       "      <td>1.8</td>\n",
       "      <td>NaN</td>\n",
       "    </tr>\n",
       "  </tbody>\n",
       "</table>\n",
       "</div>"
      ],
      "text/plain": [
       "  DATA (YYYY-MM-DD) HORA (UTC)  PRECIPITAÇÃO TOTAL, HORÁRIO (mm)  \\\n",
       "0        2001-01-01      00:00                               0.8   \n",
       "1        2001-01-01      01:00                               3.4   \n",
       "2        2001-01-01      02:00                               1.4   \n",
       "3        2001-01-01      03:00                               0.0   \n",
       "4        2001-01-01      04:00                               0.0   \n",
       "\n",
       "   PRESSAO ATMOSFERICA AO NIVEL DA ESTACAO, HORARIA (mB)  \\\n",
       "0                                              886.0       \n",
       "1                                              886.1       \n",
       "2                                              886.2       \n",
       "3                                              885.8       \n",
       "4                                              885.4       \n",
       "\n",
       "   PRESSÃO ATMOSFERICA MAX.NA HORA ANT. (AUT) (mB)  \\\n",
       "0                                            886.0   \n",
       "1                                            886.1   \n",
       "2                                            886.4   \n",
       "3                                            886.3   \n",
       "4                                            885.9   \n",
       "\n",
       "   PRESSÃO ATMOSFERICA MIN. NA HORA ANT. (AUT) (mB)  RADIACAO GLOBAL (KJ/m²)  \\\n",
       "0                                             885.7                    -9999   \n",
       "1                                             886.0                    -9999   \n",
       "2                                             886.1                    -9999   \n",
       "3                                             885.8                    -9999   \n",
       "4                                             885.4                    -9999   \n",
       "\n",
       "   TEMPERATURA DO AR - BULBO SECO, HORARIA (°C)  \\\n",
       "0                                          20.1   \n",
       "1                                          19.8   \n",
       "2                                          19.9   \n",
       "3                                          19.8   \n",
       "4                                          19.4   \n",
       "\n",
       "   TEMPERATURA DO PONTO DE ORVALHO (°C)  \\\n",
       "0                                  19.0   \n",
       "1                                  19.0   \n",
       "2                                  19.1   \n",
       "3                                  19.0   \n",
       "4                                  18.9   \n",
       "\n",
       "   TEMPERATURA MÁXIMA NA HORA ANT. (AUT) (°C)  \\\n",
       "0                                        20.7   \n",
       "1                                        20.0   \n",
       "2                                        20.0   \n",
       "3                                        20.0   \n",
       "4                                        20.0   \n",
       "\n",
       "   TEMPERATURA MÍNIMA NA HORA ANT. (AUT) (°C)  \\\n",
       "0                                        20.1   \n",
       "1                                        19.7   \n",
       "2                                        19.8   \n",
       "3                                        19.7   \n",
       "4                                        19.4   \n",
       "\n",
       "   TEMPERATURA ORVALHO MAX. NA HORA ANT. (AUT) (°C)  \\\n",
       "0                                              19.4   \n",
       "1                                              19.1   \n",
       "2                                              19.2   \n",
       "3                                              19.1   \n",
       "4                                              19.3   \n",
       "\n",
       "   TEMPERATURA ORVALHO MIN. NA HORA ANT. (AUT) (°C)  \\\n",
       "0                                              18.9   \n",
       "1                                              18.9   \n",
       "2                                              19.0   \n",
       "3                                              18.5   \n",
       "4                                              18.8   \n",
       "\n",
       "   UMIDADE REL. MAX. NA HORA ANT. (AUT) (%)  \\\n",
       "0                                        93   \n",
       "1                                        96   \n",
       "2                                        96   \n",
       "3                                        95   \n",
       "4                                        97   \n",
       "\n",
       "   UMIDADE REL. MIN. NA HORA ANT. (AUT) (%)  \\\n",
       "0                                        91   \n",
       "1                                        94   \n",
       "2                                        95   \n",
       "3                                        93   \n",
       "4                                        95   \n",
       "\n",
       "   UMIDADE RELATIVA DO AR, HORARIA (%)  VENTO, DIREÇÃO HORARIA (gr) (° (gr))  \\\n",
       "0                                   93                                   167   \n",
       "1                                   95                                   187   \n",
       "2                                   95                                   288   \n",
       "3                                   95                                   346   \n",
       "4                                   97                                   305   \n",
       "\n",
       "   VENTO, RAJADA MAXIMA (m/s)  VENTO, VELOCIDADE HORARIA (m/s)  Unnamed: 19  \n",
       "0                         5.3                              2.8          NaN  \n",
       "1                         4.0                              0.3          NaN  \n",
       "2                         1.1                              0.0          NaN  \n",
       "3                         0.9                              0.2          NaN  \n",
       "4                         2.8                              1.8          NaN  "
      ]
     },
     "execution_count": 2,
     "metadata": {},
     "output_type": "execute_result"
    }
   ],
   "source": [
    "import pandas as pd\n",
    "df = pd.read_csv('dados/INMET/2001/INMET_CO_DF_A001_BRASILIA_01-01-2001_A_31-12-2001.CSV', sep=';', encoding='latin1', decimal=',', skiprows=8)\n",
    "df.head()"
   ]
  },
  {
   "cell_type": "markdown",
   "metadata": {},
   "source": [
    "# Exercício 5\n",
    "*Objetivo: selecionar uma coluna de interesse em um `data frame`*\n",
    "\n",
    "[Link para tutorial em vídeo](https://youtu.be/0epxd_qn_nY)\n",
    "\n",
    "O código abaixo seleciona, de toda a nossa tabela de dados, somente a coluna referente à precipitação.\n",
    "\n",
    "1. Execute o código e confirme que ele está funcionando\n",
    "1. Modifique o código para que ele passe a selecionar a coluna referente à temperatura máxima."
   ]
  },
  {
   "cell_type": "code",
   "execution_count": 3,
   "metadata": {},
   "outputs": [
    {
     "data": {
      "text/plain": [
       "0    0.8\n",
       "1    3.4\n",
       "2    1.4\n",
       "3    0.0\n",
       "4    0.0\n",
       "Name: PRECIPITAÇÃO TOTAL, HORÁRIO (mm), dtype: float64"
      ]
     },
     "execution_count": 3,
     "metadata": {},
     "output_type": "execute_result"
    }
   ],
   "source": [
    "df_ = df['PRECIPITAÇÃO TOTAL, HORÁRIO (mm)']\n",
    "df_.head()"
   ]
  },
  {
   "cell_type": "markdown",
   "metadata": {},
   "source": [
    "# Exercício 6\n",
    "*Objetivo: avaliar valores máximos e mínimos*\n",
    "\n",
    "O código abaixo calcula o valor máximo de nossa coluna de dados calculada no exercício 5.\n",
    "1. Qual é a temperatura máxima registrada em Brasília em 2001?\n",
    "1. Qual é a temperatura máxima registrada em Brasília em 2021?\n",
    "1. Esses dois valores são suficientes como evidência válida da mudança climática? Por que?\n"
   ]
  },
  {
   "cell_type": "code",
   "execution_count": 4,
   "metadata": {},
   "outputs": [
    {
     "name": "stdout",
     "output_type": "stream",
     "text": [
      "28.6\n"
     ]
    }
   ],
   "source": [
    "print(df_.max())"
   ]
  },
  {
   "cell_type": "markdown",
   "metadata": {},
   "source": [
    "# Exercício 7\n",
    "*Objetivo: fazer e analisar uma figura mostrando elementos relevantes de uma série*\n",
    "\n",
    "O código abaixo abre cada um dos arquivos que temos disponíveis, calcula a precipitação/hora máxima em cada ano, e então mostra numa figura.\n",
    "\n",
    "1. Modifique o código que busca os dados para que ele passe a calcular a temperatura máxima anual.\n",
    "1. Encontre na [documentação da biblioteca matplotlib](https://matplotlib.org/3.1.1/api/_as_gen/matplotlib.pyplot.html) como podemos colocar rótulos (*labels*) nos eixos de nosso gráfico. Coloque os rótulos de forma a identificar as grandezas físicas que estão sendo mostradas em cada eixo.\n",
    "1. Encontre na [documentação da biblioteca matplotlib](https://matplotlib.org/3.1.1/api/_as_gen/matplotlib.pyplot.html) como podemos colocar um título no gráfico. Coloque um título no gráfico de forma que seu conteúdo seja entendido rapidamente por outras pessoas.\n",
    "1. Analisando seu gráfico, você diria que a estação metereológica de Brasília tem capturado evidências de mudança climática?"
   ]
  },
  {
   "cell_type": "code",
   "execution_count": 5,
   "metadata": {},
   "outputs": [
    {
     "ename": "FileNotFoundError",
     "evalue": "[Errno 2] No such file or directory: 'dados/INMET/2002/INMET_CO_DF_A001_BRASILIA_01-01-2002_A_31-12-2002.CSV'",
     "output_type": "error",
     "traceback": [
      "\u001b[0;31m---------------------------------------------------------------------------\u001b[0m",
      "\u001b[0;31mFileNotFoundError\u001b[0m                         Traceback (most recent call last)",
      "Cell \u001b[0;32mIn[5], line 3\u001b[0m\n\u001b[1;32m      1\u001b[0m precipitacao \u001b[39m=\u001b[39m []\n\u001b[1;32m      2\u001b[0m \u001b[39mfor\u001b[39;00m ano \u001b[39min\u001b[39;00m \u001b[39mrange\u001b[39m(\u001b[39m2001\u001b[39m, \u001b[39m2022\u001b[39m):\n\u001b[0;32m----> 3\u001b[0m     df_ \u001b[39m=\u001b[39m pd\u001b[39m.\u001b[39;49mread_csv(\u001b[39m'\u001b[39;49m\u001b[39mdados/INMET/\u001b[39;49m\u001b[39m'\u001b[39;49m\u001b[39m+\u001b[39;49m\u001b[39mstr\u001b[39;49m(ano)\u001b[39m+\u001b[39;49m\u001b[39m'\u001b[39;49m\u001b[39m/INMET_CO_DF_A001_BRASILIA_01-01-\u001b[39;49m\u001b[39m'\u001b[39;49m\u001b[39m+\u001b[39;49m\u001b[39mstr\u001b[39;49m(ano)\u001b[39m+\u001b[39;49m\u001b[39m'\u001b[39;49m\u001b[39m_A_31-12-\u001b[39;49m\u001b[39m'\u001b[39;49m\u001b[39m+\u001b[39;49m\u001b[39mstr\u001b[39;49m(ano)\u001b[39m+\u001b[39;49m\u001b[39m'\u001b[39;49m\u001b[39m.CSV\u001b[39;49m\u001b[39m'\u001b[39;49m, sep\u001b[39m=\u001b[39;49m\u001b[39m'\u001b[39;49m\u001b[39m;\u001b[39;49m\u001b[39m'\u001b[39;49m, encoding\u001b[39m=\u001b[39;49m\u001b[39m'\u001b[39;49m\u001b[39mlatin1\u001b[39;49m\u001b[39m'\u001b[39;49m, decimal\u001b[39m=\u001b[39;49m\u001b[39m'\u001b[39;49m\u001b[39m,\u001b[39;49m\u001b[39m'\u001b[39;49m, skiprows\u001b[39m=\u001b[39;49m\u001b[39m8\u001b[39;49m)\n\u001b[1;32m      4\u001b[0m     precipitacao\u001b[39m.\u001b[39mappend (df_[\u001b[39m\"\u001b[39m\u001b[39mTEMPERATURA MÁXIMA NA HORA ANT. (AUT) (°C)\u001b[39m\u001b[39m\"\u001b[39m]\u001b[39m.\u001b[39mmax())\n",
      "File \u001b[0;32m/Library/Frameworks/Python.framework/Versions/3.9/lib/python3.9/site-packages/pandas/io/parsers/readers.py:912\u001b[0m, in \u001b[0;36mread_csv\u001b[0;34m(filepath_or_buffer, sep, delimiter, header, names, index_col, usecols, dtype, engine, converters, true_values, false_values, skipinitialspace, skiprows, skipfooter, nrows, na_values, keep_default_na, na_filter, verbose, skip_blank_lines, parse_dates, infer_datetime_format, keep_date_col, date_parser, date_format, dayfirst, cache_dates, iterator, chunksize, compression, thousands, decimal, lineterminator, quotechar, quoting, doublequote, escapechar, comment, encoding, encoding_errors, dialect, on_bad_lines, delim_whitespace, low_memory, memory_map, float_precision, storage_options, dtype_backend)\u001b[0m\n\u001b[1;32m    899\u001b[0m kwds_defaults \u001b[39m=\u001b[39m _refine_defaults_read(\n\u001b[1;32m    900\u001b[0m     dialect,\n\u001b[1;32m    901\u001b[0m     delimiter,\n\u001b[0;32m   (...)\u001b[0m\n\u001b[1;32m    908\u001b[0m     dtype_backend\u001b[39m=\u001b[39mdtype_backend,\n\u001b[1;32m    909\u001b[0m )\n\u001b[1;32m    910\u001b[0m kwds\u001b[39m.\u001b[39mupdate(kwds_defaults)\n\u001b[0;32m--> 912\u001b[0m \u001b[39mreturn\u001b[39;00m _read(filepath_or_buffer, kwds)\n",
      "File \u001b[0;32m/Library/Frameworks/Python.framework/Versions/3.9/lib/python3.9/site-packages/pandas/io/parsers/readers.py:577\u001b[0m, in \u001b[0;36m_read\u001b[0;34m(filepath_or_buffer, kwds)\u001b[0m\n\u001b[1;32m    574\u001b[0m _validate_names(kwds\u001b[39m.\u001b[39mget(\u001b[39m\"\u001b[39m\u001b[39mnames\u001b[39m\u001b[39m\"\u001b[39m, \u001b[39mNone\u001b[39;00m))\n\u001b[1;32m    576\u001b[0m \u001b[39m# Create the parser.\u001b[39;00m\n\u001b[0;32m--> 577\u001b[0m parser \u001b[39m=\u001b[39m TextFileReader(filepath_or_buffer, \u001b[39m*\u001b[39;49m\u001b[39m*\u001b[39;49mkwds)\n\u001b[1;32m    579\u001b[0m \u001b[39mif\u001b[39;00m chunksize \u001b[39mor\u001b[39;00m iterator:\n\u001b[1;32m    580\u001b[0m     \u001b[39mreturn\u001b[39;00m parser\n",
      "File \u001b[0;32m/Library/Frameworks/Python.framework/Versions/3.9/lib/python3.9/site-packages/pandas/io/parsers/readers.py:1407\u001b[0m, in \u001b[0;36mTextFileReader.__init__\u001b[0;34m(self, f, engine, **kwds)\u001b[0m\n\u001b[1;32m   1404\u001b[0m     \u001b[39mself\u001b[39m\u001b[39m.\u001b[39moptions[\u001b[39m\"\u001b[39m\u001b[39mhas_index_names\u001b[39m\u001b[39m\"\u001b[39m] \u001b[39m=\u001b[39m kwds[\u001b[39m\"\u001b[39m\u001b[39mhas_index_names\u001b[39m\u001b[39m\"\u001b[39m]\n\u001b[1;32m   1406\u001b[0m \u001b[39mself\u001b[39m\u001b[39m.\u001b[39mhandles: IOHandles \u001b[39m|\u001b[39m \u001b[39mNone\u001b[39;00m \u001b[39m=\u001b[39m \u001b[39mNone\u001b[39;00m\n\u001b[0;32m-> 1407\u001b[0m \u001b[39mself\u001b[39m\u001b[39m.\u001b[39m_engine \u001b[39m=\u001b[39m \u001b[39mself\u001b[39;49m\u001b[39m.\u001b[39;49m_make_engine(f, \u001b[39mself\u001b[39;49m\u001b[39m.\u001b[39;49mengine)\n",
      "File \u001b[0;32m/Library/Frameworks/Python.framework/Versions/3.9/lib/python3.9/site-packages/pandas/io/parsers/readers.py:1661\u001b[0m, in \u001b[0;36mTextFileReader._make_engine\u001b[0;34m(self, f, engine)\u001b[0m\n\u001b[1;32m   1659\u001b[0m     \u001b[39mif\u001b[39;00m \u001b[39m\"\u001b[39m\u001b[39mb\u001b[39m\u001b[39m\"\u001b[39m \u001b[39mnot\u001b[39;00m \u001b[39min\u001b[39;00m mode:\n\u001b[1;32m   1660\u001b[0m         mode \u001b[39m+\u001b[39m\u001b[39m=\u001b[39m \u001b[39m\"\u001b[39m\u001b[39mb\u001b[39m\u001b[39m\"\u001b[39m\n\u001b[0;32m-> 1661\u001b[0m \u001b[39mself\u001b[39m\u001b[39m.\u001b[39mhandles \u001b[39m=\u001b[39m get_handle(\n\u001b[1;32m   1662\u001b[0m     f,\n\u001b[1;32m   1663\u001b[0m     mode,\n\u001b[1;32m   1664\u001b[0m     encoding\u001b[39m=\u001b[39;49m\u001b[39mself\u001b[39;49m\u001b[39m.\u001b[39;49moptions\u001b[39m.\u001b[39;49mget(\u001b[39m\"\u001b[39;49m\u001b[39mencoding\u001b[39;49m\u001b[39m\"\u001b[39;49m, \u001b[39mNone\u001b[39;49;00m),\n\u001b[1;32m   1665\u001b[0m     compression\u001b[39m=\u001b[39;49m\u001b[39mself\u001b[39;49m\u001b[39m.\u001b[39;49moptions\u001b[39m.\u001b[39;49mget(\u001b[39m\"\u001b[39;49m\u001b[39mcompression\u001b[39;49m\u001b[39m\"\u001b[39;49m, \u001b[39mNone\u001b[39;49;00m),\n\u001b[1;32m   1666\u001b[0m     memory_map\u001b[39m=\u001b[39;49m\u001b[39mself\u001b[39;49m\u001b[39m.\u001b[39;49moptions\u001b[39m.\u001b[39;49mget(\u001b[39m\"\u001b[39;49m\u001b[39mmemory_map\u001b[39;49m\u001b[39m\"\u001b[39;49m, \u001b[39mFalse\u001b[39;49;00m),\n\u001b[1;32m   1667\u001b[0m     is_text\u001b[39m=\u001b[39;49mis_text,\n\u001b[1;32m   1668\u001b[0m     errors\u001b[39m=\u001b[39;49m\u001b[39mself\u001b[39;49m\u001b[39m.\u001b[39;49moptions\u001b[39m.\u001b[39;49mget(\u001b[39m\"\u001b[39;49m\u001b[39mencoding_errors\u001b[39;49m\u001b[39m\"\u001b[39;49m, \u001b[39m\"\u001b[39;49m\u001b[39mstrict\u001b[39;49m\u001b[39m\"\u001b[39;49m),\n\u001b[1;32m   1669\u001b[0m     storage_options\u001b[39m=\u001b[39;49m\u001b[39mself\u001b[39;49m\u001b[39m.\u001b[39;49moptions\u001b[39m.\u001b[39;49mget(\u001b[39m\"\u001b[39;49m\u001b[39mstorage_options\u001b[39;49m\u001b[39m\"\u001b[39;49m, \u001b[39mNone\u001b[39;49;00m),\n\u001b[1;32m   1670\u001b[0m )\n\u001b[1;32m   1671\u001b[0m \u001b[39massert\u001b[39;00m \u001b[39mself\u001b[39m\u001b[39m.\u001b[39mhandles \u001b[39mis\u001b[39;00m \u001b[39mnot\u001b[39;00m \u001b[39mNone\u001b[39;00m\n\u001b[1;32m   1672\u001b[0m f \u001b[39m=\u001b[39m \u001b[39mself\u001b[39m\u001b[39m.\u001b[39mhandles\u001b[39m.\u001b[39mhandle\n",
      "File \u001b[0;32m/Library/Frameworks/Python.framework/Versions/3.9/lib/python3.9/site-packages/pandas/io/common.py:859\u001b[0m, in \u001b[0;36mget_handle\u001b[0;34m(path_or_buf, mode, encoding, compression, memory_map, is_text, errors, storage_options)\u001b[0m\n\u001b[1;32m    854\u001b[0m \u001b[39melif\u001b[39;00m \u001b[39misinstance\u001b[39m(handle, \u001b[39mstr\u001b[39m):\n\u001b[1;32m    855\u001b[0m     \u001b[39m# Check whether the filename is to be opened in binary mode.\u001b[39;00m\n\u001b[1;32m    856\u001b[0m     \u001b[39m# Binary mode does not support 'encoding' and 'newline'.\u001b[39;00m\n\u001b[1;32m    857\u001b[0m     \u001b[39mif\u001b[39;00m ioargs\u001b[39m.\u001b[39mencoding \u001b[39mand\u001b[39;00m \u001b[39m\"\u001b[39m\u001b[39mb\u001b[39m\u001b[39m\"\u001b[39m \u001b[39mnot\u001b[39;00m \u001b[39min\u001b[39;00m ioargs\u001b[39m.\u001b[39mmode:\n\u001b[1;32m    858\u001b[0m         \u001b[39m# Encoding\u001b[39;00m\n\u001b[0;32m--> 859\u001b[0m         handle \u001b[39m=\u001b[39m \u001b[39mopen\u001b[39;49m(\n\u001b[1;32m    860\u001b[0m             handle,\n\u001b[1;32m    861\u001b[0m             ioargs\u001b[39m.\u001b[39;49mmode,\n\u001b[1;32m    862\u001b[0m             encoding\u001b[39m=\u001b[39;49mioargs\u001b[39m.\u001b[39;49mencoding,\n\u001b[1;32m    863\u001b[0m             errors\u001b[39m=\u001b[39;49merrors,\n\u001b[1;32m    864\u001b[0m             newline\u001b[39m=\u001b[39;49m\u001b[39m\"\u001b[39;49m\u001b[39m\"\u001b[39;49m,\n\u001b[1;32m    865\u001b[0m         )\n\u001b[1;32m    866\u001b[0m     \u001b[39melse\u001b[39;00m:\n\u001b[1;32m    867\u001b[0m         \u001b[39m# Binary mode\u001b[39;00m\n\u001b[1;32m    868\u001b[0m         handle \u001b[39m=\u001b[39m \u001b[39mopen\u001b[39m(handle, ioargs\u001b[39m.\u001b[39mmode)\n",
      "\u001b[0;31mFileNotFoundError\u001b[0m: [Errno 2] No such file or directory: 'dados/INMET/2002/INMET_CO_DF_A001_BRASILIA_01-01-2002_A_31-12-2002.CSV'"
     ]
    }
   ],
   "source": [
    "precipitacao = []\n",
    "for ano in range(2001, 2022):\n",
    "    df_ = pd.read_csv('dados/INMET/'+str(ano)+'/INMET_CO_DF_A001_BRASILIA_01-01-'+str(ano)+'_A_31-12-'+str(ano)+'.CSV', sep=';', encoding='latin1', decimal=',', skiprows=8)\n",
    "    precipitacao.append (df_[\"TEMPERATURA MÁXIMA NA HORA ANT. (AUT) (°C)\"].max())\n"
   ]
  },
  {
   "cell_type": "code",
   "execution_count": null,
   "metadata": {},
   "outputs": [
    {
     "ename": "NameError",
     "evalue": "name 'precipitacao' is not defined",
     "output_type": "error",
     "traceback": [
      "\u001b[0;31m---------------------------------------------------------------------------\u001b[0m",
      "\u001b[0;31mNameError\u001b[0m                                 Traceback (most recent call last)",
      "Cell \u001b[0;32mIn[1], line 5\u001b[0m\n\u001b[1;32m      3\u001b[0m anos \u001b[39m=\u001b[39m \u001b[39mlist\u001b[39m(\u001b[39mrange\u001b[39m(\u001b[39m2001\u001b[39m, \u001b[39m2022\u001b[39m))\n\u001b[1;32m      4\u001b[0m plt\u001b[39m.\u001b[39mfigure()\n\u001b[0;32m----> 5\u001b[0m plt\u001b[39m.\u001b[39mplot(anos, precipitacao)\n\u001b[1;32m      6\u001b[0m plt\u001b[39m.\u001b[39mxticks(\u001b[39mlist\u001b[39m(\u001b[39mrange\u001b[39m(\u001b[39m2001\u001b[39m, \u001b[39m2022\u001b[39m,\u001b[39m4\u001b[39m)), rotation\u001b[39m=\u001b[39m\u001b[39m90\u001b[39m)\n\u001b[1;32m      7\u001b[0m plt\u001b[39m.\u001b[39mxlabel(\u001b[39m'\u001b[39m\u001b[39mAnos\u001b[39m\u001b[39m'\u001b[39m)\n",
      "\u001b[0;31mNameError\u001b[0m: name 'precipitacao' is not defined"
     ]
    },
    {
     "data": {
      "text/plain": [
       "<Figure size 640x480 with 0 Axes>"
      ]
     },
     "metadata": {},
     "output_type": "display_data"
    }
   ],
   "source": [
    "import matplotlib.pyplot as plt\n",
    "plt.style.use('default')\n",
    "anos = list(range(2001, 2022))\n",
    "plt.figure()\n",
    "plt.plot(anos, precipitacao)\n",
    "plt.xticks(list(range(2001, 2022,4)), rotation=90)\n",
    "plt.xlabel('Anos')\n",
    "plt.ylabel('Temperatura máxima anual')\n",
    "plt.title('Temperatura máxima anual em Brasília')\n",
    "plt.show()"
   ]
  }
 ],
 "metadata": {
  "kernelspec": {
   "display_name": "Python 3.7.12",
   "language": "python",
   "name": "python3"
  },
  "language_info": {
   "codemirror_mode": {
    "name": "ipython",
    "version": 3
   },
   "file_extension": ".py",
   "mimetype": "text/x-python",
   "name": "python",
   "nbconvert_exporter": "python",
   "pygments_lexer": "ipython3",
   "version": "3.9.10"
  },
  "orig_nbformat": 4,
  "vscode": {
   "interpreter": {
    "hash": "48a163085726af4aa892ebfc5efd6be8ee4b935d9ea37781e4f79f4457b77d39"
   }
  }
 },
 "nbformat": 4,
 "nbformat_minor": 2
}
